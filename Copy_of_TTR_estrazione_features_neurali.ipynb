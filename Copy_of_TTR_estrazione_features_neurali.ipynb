{
  "cells": [
    {
      "cell_type": "markdown",
      "metadata": {
        "id": "view-in-github",
        "colab_type": "text"
      },
      "source": [
        "<a href=\"https://colab.research.google.com/github/danielegilardi/TTR_project/blob/main/Copy_of_TTR_estrazione_features_neurali.ipynb\" target=\"_parent\"><img src=\"https://colab.research.google.com/assets/colab-badge.svg\" alt=\"Open In Colab\"/></a>"
      ]
    },
    {
      "cell_type": "code",
      "execution_count": null,
      "metadata": {
        "id": "BsWRoS8nlBv3"
      },
      "outputs": [],
      "source": [
        "# Scarico file di training\n",
        "!wget https://www.dropbox.com/s/asr619m9pigl2hh/train_angry.zip?dl=0\n",
        "!wget https://www.dropbox.com/s/uy95xax12bug0df/train_disgust.zip?dl=0\n",
        "!wget https://www.dropbox.com/s/hsdhrpgk2o3h95b/train_fear.zip?dl=0\n",
        "!wget https://www.dropbox.com/s/6hlkk4y9b4e6oef/train_happy.zip?dl=0\n",
        "!wget https://www.dropbox.com/s/lqvzefuiyb3nr6p/train_neutral.zip?dl=0\n",
        "!wget https://www.dropbox.com/s/4xj4dfhh6nd88uq/train_sad.zip?dl=0\n",
        "!wget https://www.dropbox.com/s/nfphtfuezqs6930/train_surprise.zip?dl=0\n",
        "\n",
        "!unzip train_angry.zip?dl=0\n",
        "!unzip train_disgust.zip?dl=0\n",
        "!unzip train_fear.zip?dl=0\n",
        "!unzip train_happy.zip?dl=0\n",
        "!unzip train_neutral.zip?dl=0\n",
        "!unzip train_sad.zip?dl=0\n",
        "!unzip train_surprise.zip?dl=0\n",
        "\n",
        "# Scarico file di test\n",
        "!wget https://www.dropbox.com/s/zy4caktxitsk2nd/test_angry.zip?dl=0\n",
        "!wget https://www.dropbox.com/s/gfeos1j8akykpps/test_disgust.zip?dl=0\n",
        "!wget https://www.dropbox.com/s/7zg9lsbppy0aprf/test_fear.zip?dl=0\n",
        "!wget https://www.dropbox.com/s/w2pjbyvh0x8s2zj/test_happy.zip?dl=0\n",
        "!wget https://www.dropbox.com/s/ca86hlz8tkgjl70/test_neutral.zip?dl=0\n",
        "!wget https://www.dropbox.com/s/p85mypgujhmfq26/test_sad.zip?dl=0\n",
        "!wget https://www.dropbox.com/s/sp7975d2art8ivt/test_surprise.zip?dl=0\n",
        "!unzip test_angry.zip?dl=0\n",
        "!unzip test_disgust.zip?dl=0\n",
        "!unzip test_fear.zip?dl=0\n",
        "!unzip test_happy.zip?dl=0\n",
        "!unzip test_neutral.zip?dl=0\n",
        "!unzip test_sad.zip?dl=0\n",
        "!unzip test_surprise.zip?dl=0"
      ]
    },
    {
      "cell_type": "code",
      "execution_count": null,
      "metadata": {
        "id": "U9sP3SYTl2jD"
      },
      "outputs": [],
      "source": [
        "from glob import glob\n",
        "import cv2\n",
        "from matplotlib import pyplot as plt\n",
        "import numpy as np\n",
        "\n",
        "# Raccolgo le immagini di uno specifico insieme (espressione del viso)\n",
        "# creando una lista di immagini contenenti solo immagini di quell'insieme\n",
        "# train\n",
        "list_train_angry_images = sorted(glob('train_angry/*.jpg'))\n",
        "list_train_disgust_images = sorted(glob('train_disgust/*.jpg'))\n",
        "list_train_fear_images = sorted(glob('train_fear/*.jpg'))\n",
        "list_train_happy_images = sorted(glob('train_happy/*.jpg'))\n",
        "list_train_neutral_images = sorted(glob('train_neutral/*.jpg'))\n",
        "list_train_sad_images = sorted(glob('train_sad/*.jpg'))\n",
        "list_train_surprise_images = sorted(glob('train_surprise/*.jpg'))\n",
        "\n",
        "# test\n",
        "list_test_angry_images = sorted(glob('test_angry/*.jpg'))\n",
        "list_test_disgust_images = sorted(glob('test_disgust/*.jpg'))\n",
        "list_test_fear_images = sorted(glob('test_fear/*.jpg'))\n",
        "list_test_happy_images = sorted(glob('test_happy/*.jpg'))\n",
        "list_test_neutral_images = sorted(glob('test_neutral/*.jpg'))\n",
        "list_test_sad_images = sorted(glob('test_sad/*.jpg'))\n",
        "list_test_surprise_images = sorted(glob('test_surprise/*.jpg'))"
      ]
    },
    {
      "cell_type": "code",
      "execution_count": null,
      "metadata": {
        "id": "yOIo5A7TZ0eI"
      },
      "outputs": [],
      "source": [
        "# Creo una lista di etichette(label) con tutti gli insiemi di immagini \n",
        "# e assegno a tutti gli elementi della lista un numero da 1 a 7 (7 insiemi), a seconda dell'insieme\n",
        "\n",
        "list_train_labels = []\n",
        "for i in range(len(list_train_angry_images)):\n",
        "  list_train_labels.append(1)\n",
        "for i in range(len(list_train_disgust_images)):\n",
        "  list_train_labels.append(2)\n",
        "for i in range(len(list_train_fear_images)):\n",
        "  list_train_labels.append(3)\n",
        "for i in range(len(list_train_happy_images)):\n",
        "  list_train_labels.append(4)\n",
        "for i in range(len(list_train_neutral_images)):\n",
        "  list_train_labels.append(5)\n",
        "for i in range(len(list_train_sad_images)):\n",
        "  list_train_labels.append(6)\n",
        "for i in range(len(list_train_surprise_images)):\n",
        "  list_train_labels.append(7)\n",
        "\n",
        "list_test_labels = []\n",
        "for i in range(len(list_test_angry_images)):\n",
        "  list_test_labels.append(1)\n",
        "for i in range(len(list_test_disgust_images)):\n",
        "  list_test_labels.append(2)\n",
        "for i in range(len(list_test_fear_images)):\n",
        "  list_test_labels.append(3)\n",
        "for i in range(len(list_test_happy_images)):\n",
        "  list_test_labels.append(4)\n",
        "for i in range(len(list_test_neutral_images)):\n",
        "  list_test_labels.append(5)\n",
        "for i in range(len(list_test_sad_images)):\n",
        "  list_test_labels.append(6)\n",
        "for i in range(len(list_test_surprise_images)):\n",
        "  list_test_labels.append(7)"
      ]
    },
    {
      "cell_type": "code",
      "execution_count": null,
      "metadata": {
        "colab": {
          "base_uri": "https://localhost:8080/",
          "height": 626
        },
        "id": "F9UzvRzfAs3H",
        "outputId": "a2f8a569-429c-487a-f4f1-bd89f0160000"
      },
      "outputs": [
        {
          "output_type": "stream",
          "name": "stdout",
          "text": [
            "Dimensione liste di training:\n",
            "\n",
            "(4355,)\n",
            "(520,)\n",
            "(4529,)\n",
            "(7995,)\n",
            "(5433,)\n",
            "(5370,)\n",
            "(3603,)\n",
            "\n",
            "Dimensione liste di test:\n",
            "\n",
            "(958,)\n",
            "(111,)\n",
            "(1024,)\n",
            "(1774,)\n",
            "(1233,)\n",
            "(1247,)\n",
            "(831,)\n",
            "liste labels\n",
            "\n"
          ]
        },
        {
          "output_type": "error",
          "ename": "NameError",
          "evalue": "ignored",
          "traceback": [
            "\u001b[0;31m---------------------------------------------------------------------------\u001b[0m",
            "\u001b[0;31mNameError\u001b[0m                                 Traceback (most recent call last)",
            "\u001b[0;32m<ipython-input-5-9b7c08300fd0>\u001b[0m in \u001b[0;36m<module>\u001b[0;34m()\u001b[0m\n\u001b[1;32m     20\u001b[0m \u001b[0;34m\u001b[0m\u001b[0m\n\u001b[1;32m     21\u001b[0m \u001b[0mprint\u001b[0m\u001b[0;34m(\u001b[0m\u001b[0;34m\"liste labels\\n\"\u001b[0m\u001b[0;34m)\u001b[0m\u001b[0;34m\u001b[0m\u001b[0;34m\u001b[0m\u001b[0m\n\u001b[0;32m---> 22\u001b[0;31m \u001b[0mprint\u001b[0m\u001b[0;34m(\u001b[0m\u001b[0mnp\u001b[0m\u001b[0;34m.\u001b[0m\u001b[0mshape\u001b[0m\u001b[0;34m(\u001b[0m\u001b[0mlist_train_labels\u001b[0m\u001b[0;34m)\u001b[0m\u001b[0;34m)\u001b[0m\u001b[0;34m\u001b[0m\u001b[0;34m\u001b[0m\u001b[0m\n\u001b[0m\u001b[1;32m     23\u001b[0m \u001b[0mprint\u001b[0m\u001b[0;34m(\u001b[0m\u001b[0mnp\u001b[0m\u001b[0;34m.\u001b[0m\u001b[0mshape\u001b[0m\u001b[0;34m(\u001b[0m\u001b[0mlist_test_labels\u001b[0m\u001b[0;34m)\u001b[0m\u001b[0;34m)\u001b[0m\u001b[0;34m\u001b[0m\u001b[0;34m\u001b[0m\u001b[0m\n\u001b[1;32m     24\u001b[0m \u001b[0;31m#print(list_train_labels)\u001b[0m\u001b[0;34m\u001b[0m\u001b[0;34m\u001b[0m\u001b[0;34m\u001b[0m\u001b[0m\n",
            "\u001b[0;31mNameError\u001b[0m: name 'list_train_labels' is not defined"
          ]
        }
      ],
      "source": [
        "# Stampo dimensione liste di training\n",
        "print(\"Dimensione liste di training:\\n\")\n",
        "print(np.shape(list_train_angry_images))\n",
        "print(np.shape(list_train_disgust_images))\n",
        "print(np.shape(list_train_fear_images))\n",
        "print(np.shape(list_train_happy_images))\n",
        "print(np.shape(list_train_neutral_images))\n",
        "print(np.shape(list_train_sad_images))\n",
        "print(np.shape(list_train_surprise_images))\n",
        "\n",
        "# Stampo dimensione liste di test\n",
        "print(\"\\nDimensione liste di test:\\n\")\n",
        "print(np.shape(list_test_angry_images))\n",
        "print(np.shape(list_test_disgust_images))\n",
        "print(np.shape(list_test_fear_images))\n",
        "print(np.shape(list_test_happy_images))\n",
        "print(np.shape(list_test_neutral_images))\n",
        "print(np.shape(list_test_sad_images))\n",
        "print(np.shape(list_test_surprise_images))\n",
        "\n",
        "print(\"liste labels\\n\")\n",
        "print(np.shape(list_train_labels))\n",
        "print(np.shape(list_test_labels))\n",
        "#print(list_train_labels)\n",
        "#print(list_test_labels)\n",
        "print(list_train_angry_images[:1])"
      ]
    },
    {
      "cell_type": "code",
      "execution_count": null,
      "metadata": {
        "id": "dyNRilIedite"
      },
      "outputs": [],
      "source": [
        "# Converto le liste di immagini in liste con formato (N,W,H,C), quindi (N,48,48,C)\n",
        "# train\n",
        "list_train_angry_images_nwhc = []\n",
        "for i in range(len(list_train_angry_images)):\n",
        "  list_train_angry_images[i] = cv2.imread(list_train_angry_images[i])\n",
        "\n",
        "for i in range(len(list_train_disgust_images)):\n",
        "  list_train_disgust_images[i] = cv2.imread(list_train_disgust_images[i])\n",
        "\n",
        "for i in range(len(list_train_fear_images)):\n",
        "  list_train_fear_images[i] = cv2.imread(list_train_fear_images[i])\n",
        "\n",
        "for i in range(len(list_train_happy_images)):\n",
        "  list_train_happy_images[i] = cv2.imread(list_train_happy_images[i])\n",
        "\n",
        "for i in range(len(list_train_neutral_images)):\n",
        "  list_train_neutral_images[i] = cv2.imread(list_train_neutral_images[i])\n",
        "\n",
        "for i in range(len(list_train_sad_images)):\n",
        "  list_train_sad_images[i] = cv2.imread(list_train_sad_images[i])\n",
        "\n",
        "for i in range(len(list_train_surprise_images)):\n",
        "  list_train_surprise_images[i] = cv2.imread(list_train_surprise_images[i])\n",
        "\n",
        "# test\n",
        "for i in range(len(list_test_angry_images)):\n",
        "  list_test_angry_images[i] = cv2.imread(list_test_angry_images[i])\n",
        "\n",
        "for i in range(len(list_test_disgust_images)):\n",
        "  list_test_disgust_images[i] = cv2.imread(list_test_disgust_images[i])\n",
        "\n",
        "for i in range(len(list_test_fear_images)):\n",
        "  list_test_fear_images[i] = cv2.imread(list_test_fear_images[i])\n",
        "\n",
        "for i in range(len(list_test_happy_images)):\n",
        "  list_test_happy_images[i] = cv2.imread(list_test_happy_images[i])\n",
        "\n",
        "for i in range(len(list_test_neutral_images)):\n",
        "  list_test_neutral_images[i] = cv2.imread(list_test_neutral_images[i])\n",
        "\n",
        "for i in range(len(list_test_sad_images)):\n",
        "  list_test_sad_images[i] = cv2.imread(list_test_sad_images[i])\n",
        "\n",
        "for i in range(len(list_test_surprise_images)):\n",
        "  list_test_surprise_images[i] = cv2.imread(list_test_surprise_images[i])"
      ]
    },
    {
      "cell_type": "code",
      "source": [
        "from numpy import save\n",
        "list_train_images_nwhc = []\n",
        "np.save('list_train_images_nwhc.npy', list_train_images_nwhc)"
      ],
      "metadata": {
        "id": "OmR56tyOW8FN"
      },
      "execution_count": null,
      "outputs": []
    },
    {
      "cell_type": "code",
      "execution_count": null,
      "metadata": {
        "colab": {
          "base_uri": "https://localhost:8080/"
        },
        "id": "G5Pt0oZ76A4-",
        "outputId": "ef00b5dc-302d-4878-fa1a-89bb236e2e5a"
      },
      "outputs": [
        {
          "name": "stdout",
          "output_type": "stream",
          "text": [
            "[array([[[ 46,  46,  46],\n",
            "        [ 34,  34,  34],\n",
            "        [ 26,  26,  26],\n",
            "        ...,\n",
            "        [ 10,  10,  10],\n",
            "        [ 13,  13,  13],\n",
            "        [ 22,  22,  22]],\n",
            "\n",
            "       [[ 50,  50,  50],\n",
            "        [ 28,  28,  28],\n",
            "        [ 21,  21,  21],\n",
            "        ...,\n",
            "        [ 11,  11,  11],\n",
            "        [ 10,  10,  10],\n",
            "        [ 21,  21,  21]],\n",
            "\n",
            "       [[ 50,  50,  50],\n",
            "        [ 27,  27,  27],\n",
            "        [ 15,  15,  15],\n",
            "        ...,\n",
            "        [ 22,  22,  22],\n",
            "        [ 24,  24,  24],\n",
            "        [ 22,  22,  22]],\n",
            "\n",
            "       ...,\n",
            "\n",
            "       [[208, 208, 208],\n",
            "        [179, 179, 179],\n",
            "        [108, 108, 108],\n",
            "        ...,\n",
            "        [191, 191, 191],\n",
            "        [205, 205, 205],\n",
            "        [204, 204, 204]],\n",
            "\n",
            "       [[212, 212, 212],\n",
            "        [198, 198, 198],\n",
            "        [149, 149, 149],\n",
            "        ...,\n",
            "        [181, 181, 181],\n",
            "        [200, 200, 200],\n",
            "        [204, 204, 204]],\n",
            "\n",
            "       [[208, 208, 208],\n",
            "        [201, 201, 201],\n",
            "        [171, 171, 171],\n",
            "        ...,\n",
            "        [165, 165, 165],\n",
            "        [180, 180, 180],\n",
            "        [189, 189, 189]]], dtype=uint8)]\n"
          ]
        }
      ],
      "source": [
        "print(list_train_angry_images[:1])"
      ]
    },
    {
      "cell_type": "code",
      "execution_count": null,
      "metadata": {
        "colab": {
          "base_uri": "https://localhost:8080/"
        },
        "id": "cEtacF7ZLUMF",
        "outputId": "016e1c1e-783f-4fc2-de4d-3b1e741fc03e"
      },
      "outputs": [
        {
          "name": "stdout",
          "output_type": "stream",
          "text": [
            "(4355, 48, 48, 3)\n",
            "(958, 48, 48, 3)\n"
          ]
        }
      ],
      "source": [
        "print(np.shape(list_train_angry_images))\n",
        "print(np.shape(list_test_angry_images))"
      ]
    },
    {
      "cell_type": "code",
      "execution_count": null,
      "metadata": {
        "colab": {
          "base_uri": "https://localhost:8080/",
          "height": 87,
          "referenced_widgets": [
            "4da2c9c916f3446f8c765472bac0592f",
            "eda4c4cddbf34149832dec194ee4c470",
            "34a3f19b79554b6c9de78aac21944c30",
            "e261a60240d24fa09efb465e4c11ecbb",
            "bc133687977244cd898a1f1712f41964",
            "2634f25251204fc080277b18d021ea1a",
            "d34f195c1994462bb772de8c885bc0c5",
            "726bd7b9a1734fb287c2a08e80fcf17c",
            "4410993ca8f24a138019497e411ad21f",
            "e85dbc796cd44b01bb54c946f9eb0d8f",
            "7bacb7864a734099861ee16a62af899d"
          ]
        },
        "id": "7GDAhpliJzUl",
        "outputId": "e6f76799-4c9f-486b-c8a6-b38d6433472e"
      },
      "outputs": [
        {
          "name": "stderr",
          "output_type": "stream",
          "text": [
            "Downloading: \"https://download.pytorch.org/models/resnet50-0676ba61.pth\" to /root/.cache/torch/hub/checkpoints/resnet50-0676ba61.pth\n"
          ]
        },
        {
          "data": {
            "application/vnd.jupyter.widget-view+json": {
              "model_id": "4da2c9c916f3446f8c765472bac0592f",
              "version_major": 2,
              "version_minor": 0
            },
            "text/plain": [
              "  0%|          | 0.00/97.8M [00:00<?, ?B/s]"
            ]
          },
          "metadata": {},
          "output_type": "display_data"
        }
      ],
      "source": [
        "# RESNET\n",
        "import torch\n",
        "import torchvision.models as models \n",
        "\n",
        "class FeaturesExtractor(object):\n",
        "  def __init__(self):\n",
        "    backbone = models.resnet50(pretrained=True)\n",
        "    modules=list(backbone.children())[:-1]\n",
        "    self.model =torch.nn.Sequential(*modules)\n",
        "    for p in self.model.parameters():\n",
        "        p.requires_grad = False\n",
        "\n",
        "  def getFeatures(self, im):\n",
        "    im = torch.FloatTensor(im).permute(2,0,1)\n",
        "    im = im.view(1,im.size(0),im.size(1),im.size(2))\n",
        "    return self.model(im).squeeze()\n",
        "\n",
        "  def getFeaturesOfList(self, ims):\n",
        "    ims = torch.FloatTensor(ims).permute(0,3,1,2)\n",
        "    return self.model(ims).squeeze()\n",
        "\n",
        "# FEATURE EXTRACTOR\n",
        "# Extractor initialization\n",
        "extractor = FeaturesExtractor()"
      ]
    },
    {
      "cell_type": "code",
      "execution_count": null,
      "metadata": {
        "colab": {
          "base_uri": "https://localhost:8080/"
        },
        "id": "cUv8zJR2mAu9",
        "outputId": "6eda8c6f-5f3b-4203-827d-a34a1444d139"
      },
      "outputs": [
        {
          "name": "stderr",
          "output_type": "stream",
          "text": [
            "/usr/local/lib/python3.7/dist-packages/ipykernel_launcher.py:19: UserWarning: Creating a tensor from a list of numpy.ndarrays is extremely slow. Please consider converting the list to a single numpy.ndarray with numpy.array() before converting to a tensor. (Triggered internally at  ../torch/csrc/utils/tensor_new.cpp:201.)\n"
          ]
        }
      ],
      "source": [
        "# Estraggo le features da ogni classe (training)\n",
        "features_train_angry = extractor.getFeaturesOfList(list_train_angry_images)\n",
        "features_train_disgust = extractor.getFeaturesOfList(list_train_disgust_images)\n",
        "features_train_fear = extractor.getFeaturesOfList(list_train_fear_images)\n",
        "features_train_happy = extractor.getFeaturesOfList(list_train_happy_images)\n",
        "features_train_neutral = extractor.getFeaturesOfList(list_train_neutral_images)\n",
        "features_train_sad = extractor.getFeaturesOfList(list_train_sad_images)\n",
        "features_train_surprise = extractor.getFeaturesOfList(list_train_surprise_images)"
      ]
    },
    {
      "cell_type": "code",
      "execution_count": null,
      "metadata": {
        "id": "zOqYVU-j2Yy2"
      },
      "outputs": [],
      "source": [
        ""
      ]
    },
    {
      "cell_type": "code",
      "execution_count": null,
      "metadata": {
        "id": "Hk0CKgDl64GH"
      },
      "outputs": [],
      "source": [
        "# Estraggo le features da ogni classe (test)\n",
        "features_test_angry = extractor.getFeaturesOfList(list_test_angry_images)\n",
        "features_test_disgust = extractor.getFeaturesOfList(list_test_disgust_images)\n",
        "features_test_fear = extractor.getFeaturesOfList(list_test_fear_images)\n",
        "features_test_happy = extractor.getFeaturesOfList(list_test_happy_images)\n",
        "features_test_neutral = extractor.getFeaturesOfList(list_test_neutral_images)\n",
        "features_test_sad = extractor.getFeaturesOfList(list_test_sad_images)\n",
        "features_test_surprise = extractor.getFeaturesOfList(list_test_surprise_images)"
      ]
    },
    {
      "cell_type": "code",
      "execution_count": null,
      "metadata": {
        "colab": {
          "base_uri": "https://localhost:8080/"
        },
        "id": "aw4RhkNyMF2_",
        "outputId": "6577da7c-d42c-408e-ab3f-2105621d8ebf"
      },
      "outputs": [
        {
          "name": "stdout",
          "output_type": "stream",
          "text": [
            "\n",
            "Dimensione feature ANGRY\n",
            "\n",
            "torch.Size([4355, 2048])\n",
            "\n",
            "Dimensione feature DISGUST\n",
            "\n",
            "torch.Size([520, 2048])\n",
            "\n",
            "Dimensione feature FEAR\n",
            "\n",
            "torch.Size([4529, 2048])\n",
            "\n",
            "Dimensione feature HAPPY\n",
            "\n",
            "torch.Size([7995, 2048])\n",
            "\n",
            "Dimensione feature NEUTRAL\n",
            "\n",
            "torch.Size([5433, 2048])\n",
            "\n",
            "Dimensione feature SAD\n",
            "\n",
            "torch.Size([5370, 2048])\n",
            "\n",
            "Dimensione feature SURPRISE\n",
            "\n",
            "torch.Size([3603, 2048])\n",
            "\n",
            "Dimensione feature ANGRY\n",
            "\n",
            "torch.Size([958, 2048])\n",
            "\n",
            "Dimensione feature DISGUST\n",
            "\n",
            "torch.Size([111, 2048])\n",
            "\n",
            "Dimensione feature FEAR\n",
            "\n",
            "torch.Size([1024, 2048])\n",
            "\n",
            "Dimensione feature HAPPY\n",
            "\n",
            "torch.Size([1774, 2048])\n",
            "\n",
            "Dimensione feature NEUTRAL\n",
            "\n",
            "torch.Size([1233, 2048])\n",
            "\n",
            "Dimensione feature SAD\n",
            "\n",
            "torch.Size([1247, 2048])\n",
            "\n",
            "Dimensione feature SURPRISE\n",
            "\n",
            "torch.Size([831, 2048])\n"
          ]
        }
      ],
      "source": [
        "# Stampo le dimensioni dell'array di feature di ogni classe (training)\n",
        "print(\"\\nDimensione feature ANGRY\\n\")\n",
        "print(np.shape(features_train_angry))\n",
        "print(\"\\nDimensione feature DISGUST\\n\")\n",
        "print(np.shape(features_train_disgust))\n",
        "print(\"\\nDimensione feature FEAR\\n\")\n",
        "print(np.shape(features_train_fear))\n",
        "print(\"\\nDimensione feature HAPPY\\n\")\n",
        "print(np.shape(features_train_happy))\n",
        "print(\"\\nDimensione feature NEUTRAL\\n\")\n",
        "print(np.shape(features_train_neutral))\n",
        "print(\"\\nDimensione feature SAD\\n\")\n",
        "print(np.shape(features_train_sad))\n",
        "print(\"\\nDimensione feature SURPRISE\\n\")\n",
        "print(np.shape(features_train_surprise))\n",
        "#print(features_train_angry)\n",
        "\n",
        "# Stampo le dimensioni dell'array di feature di ogni classe (test)\n",
        "print(\"\\nDimensione feature ANGRY\\n\")\n",
        "print(np.shape(features_test_angry))\n",
        "print(\"\\nDimensione feature DISGUST\\n\")\n",
        "print(np.shape(features_test_disgust))\n",
        "print(\"\\nDimensione feature FEAR\\n\")\n",
        "print(np.shape(features_test_fear))\n",
        "print(\"\\nDimensione feature HAPPY\\n\")\n",
        "print(np.shape(features_test_happy))\n",
        "print(\"\\nDimensione feature NEUTRAL\\n\")\n",
        "print(np.shape(features_test_neutral))\n",
        "print(\"\\nDimensione feature SAD\\n\")\n",
        "print(np.shape(features_test_sad))\n",
        "print(\"\\nDimensione feature SURPRISE\\n\")\n",
        "print(np.shape(features_test_surprise))\n",
        "#print(features_test_angry)"
      ]
    },
    {
      "cell_type": "code",
      "execution_count": null,
      "metadata": {
        "id": "-F0QOCy1Qq2B"
      },
      "outputs": [],
      "source": [
        ""
      ]
    },
    {
      "cell_type": "code",
      "execution_count": null,
      "metadata": {
        "id": "nPIU5VbrOqvM"
      },
      "outputs": [],
      "source": [
        "# save numpy array as npy file\n",
        "\n",
        "from numpy import save\n",
        "\n",
        "np.save('features_train_angry_f1.npy', features_train_angry)\n",
        "np.save('features_train_disgust_f1.npy', features_train_disgust)\n",
        "np.save('features_train_fear_f1.npy', features_train_fear)\n",
        "np.save('features_train_happy_f1.npy', features_train_happy)\n",
        "np.save('features_train_neutral_f1.npy', features_train_neutral)\n",
        "np.save('features_train_sad_f1.npy', features_train_sad)\n",
        "np.save('features_train_surprise_f1.npy', features_train_surprise)\n",
        "\n",
        "np.save('features_test_angry_f1.npy', features_test_angry)\n",
        "np.save('features_test_disgust_f1.npy', features_test_disgust)\n",
        "np.save('features_test_fear_f1.npy', features_test_fear)\n",
        "np.save('features_test_happy_f1.npy', features_test_happy)\n",
        "np.save('features_test_neutral_f1.npy', features_test_neutral)\n",
        "np.save('features_test_sad_f1.npy', features_test_sad)\n",
        "np.save('features_test_surprise_f1.npy', features_test_surprise)\n",
        "\n",
        "#np.save('labels_train_f1.npy', list_train_labels)\n",
        "#np.save('labels_test_f1.npy', list_test_labels)\n"
      ]
    },
    {
      "cell_type": "code",
      "execution_count": null,
      "metadata": {
        "colab": {
          "base_uri": "https://localhost:8080/"
        },
        "id": "xCgl12AEQv1g",
        "outputId": "566bb913-70b4-470e-9008-33a9147e1bdf"
      },
      "outputs": [
        {
          "name": "stdout",
          "output_type": "stream",
          "text": [
            "(31805, 2048)\n",
            "(7178, 2048)\n"
          ]
        }
      ],
      "source": [
        "features_train_resnet = np.vstack((features_train_angry,features_train_disgust,features_train_fear,features_train_happy,features_train_neutral,features_train_sad,features_train_surprise))\n",
        "features_test_resnet = np.vstack((features_test_angry,features_test_disgust,features_test_fear,features_test_happy,features_test_neutral,features_test_sad,features_test_surprise))\n",
        "print(np.shape(features_train_resnet))\n",
        "print(np.shape(features_test_resnet))"
      ]
    },
    {
      "cell_type": "code",
      "execution_count": null,
      "metadata": {
        "id": "748jknL328yl"
      },
      "outputs": [],
      "source": [
        "np.save('features_train_resnet.npy', features_train_resnet)\n",
        "np.save('features_test_resnet.npy', features_test_resnet)\n",
        "\n",
        "np.save('list_train_labels.npy', list_train_labels)\n",
        "np.save('list_test_labels.npy', list_test_labels)"
      ]
    },
    {
      "cell_type": "markdown",
      "metadata": {
        "id": "_De9vP9z8NIF"
      },
      "source": [
        "Dopo aver salvato i dati in .npy, alla prossima apertura del progetto si può partire da qui"
      ]
    },
    {
      "cell_type": "code",
      "execution_count": null,
      "metadata": {
        "id": "r-v2zApyCMvX"
      },
      "outputs": [],
      "source": [
        "from glob import glob\n",
        "import cv2\n",
        "from matplotlib import pyplot as plt\n",
        "import numpy as np\n",
        "\n",
        "# Carico i file .npy di training\n",
        "features_train_angry_f1 = np.load('features_train_angry_f1.npy')\n",
        "features_train_disgust_f1 = np.load('features_train_disgust_f1.npy')\n",
        "features_train_fear_f1 = np.load('features_train_fear_f1.npy')\n",
        "features_train_neutral_f1 = np.load('features_train_neutral_f1.npy')\n",
        "features_train_sad_f1 = np.load('data_features_sad_f1.npy')\n",
        "features_train_surprise_f1 = np.load('features_train_surprise_f1.npy')\n",
        "\n",
        "# Carico i file .npy di test\n",
        "features_test_angry_f1 = np.load('features_test_angry_f1.npy')\n",
        "features_test_disgust_f1 = np.load('features_test_disgust_f1.npy')\n",
        "features_test_fear_f1 = np.load('features_test_fear_f1.npy')\n",
        "features_test_happy_f1 = np.load('features_test_happy_f1.npy')\n",
        "features_test_neutral_f1 = np.load('features_test_neutral_f1.npy')\n",
        "features_test_sad_f1 = np.load('features_test_sad_f1.npy')\n",
        "features_test_surprise_f1 = np.load('features_test_surprise_f1.npy')\n",
        "\n",
        "labels_train_f1 = np.load('labels_train_f1.npy')\n",
        "labels_test_f1 = np.load('labels_test_f1.npy')"
      ]
    },
    {
      "cell_type": "code",
      "execution_count": null,
      "metadata": {
        "id": "VNayt8y64TZv"
      },
      "outputs": [],
      "source": [
        ""
      ]
    },
    {
      "cell_type": "code",
      "execution_count": null,
      "metadata": {
        "colab": {
          "base_uri": "https://localhost:8080/"
        },
        "id": "YuwBFh20Ghm1",
        "outputId": "afe292c9-27fd-4f75-d68c-556f7689f8b5"
      },
      "outputs": [
        {
          "name": "stdout",
          "output_type": "stream",
          "text": [
            "(4355, 2048)\n"
          ]
        }
      ],
      "source": [
        "print(np.shape(data_train_angry_f1))\n",
        "#print(np.shape(data_test_angry_f1))"
      ]
    },
    {
      "cell_type": "code",
      "execution_count": null,
      "metadata": {
        "id": "oyvN-slPhK_o"
      },
      "outputs": [],
      "source": [
        ""
      ]
    },
    {
      "cell_type": "code",
      "execution_count": null,
      "metadata": {
        "id": "nzxQPiZRJnkM"
      },
      "outputs": [],
      "source": [
        ""
      ]
    },
    {
      "cell_type": "code",
      "execution_count": null,
      "metadata": {
        "id": "c0iXxoC3DHLe"
      },
      "outputs": [],
      "source": [
        "import numpy as np\n",
        "a = np.array([[1,1,1],[1,1,1]])\n",
        "b = np.array([[2,2,2],[2,2,2]])\n",
        "c = np.vstack((a,b))\n",
        "print(c)"
      ]
    },
    {
      "cell_type": "code",
      "execution_count": null,
      "metadata": {
        "id": "ZtpuloSSHlmu"
      },
      "outputs": [],
      "source": [
        "# Creo una matrice di feature unica, tutte le classi concatenate\n",
        "data_train = np.vstack((features_angry,features_disgust,features_fear,features_happy,features_neutral,features_sad,features_surprise))"
      ]
    },
    {
      "cell_type": "code",
      "execution_count": null,
      "metadata": {
        "id": "EDAssfxd7RY9"
      },
      "outputs": [],
      "source": [
        "# Mostro le prime 30 immagini per ogni classe e la dimensione di ogni lista di immagini\n",
        "\n",
        "print(\"Dimensione della lista ANGRY: \")\n",
        "print(np.shape(list_train_angry_images))\n",
        "print(\"Prime 30 immagini della lista ANGRY\")\n",
        "fig, axs = plt.subplots(3,10)\n",
        "for i in range(30):\n",
        "    axs[i//10,i%10].imshow(cv2.imread(list_train_angry_images[i], cv2.IMREAD_GRAYSCALE),cmap='gray')\n",
        "    axs[i//10,i%10].axis('off')\n",
        "plt.show()\n",
        "\n",
        "\n",
        "print(\"\\nDimensione della lista DISGUST: \")\n",
        "print(np.shape(list_train_disgust_images))\n",
        "print(\"Prime 30 immagini della lista DISGUST\")\n",
        "fig, axs = plt.subplots(3,10)\n",
        "for i in range(30):\n",
        "    axs[i//10,i%10].imshow(cv2.imread(list_train_disgust_images[i], cv2.IMREAD_GRAYSCALE),cmap='gray')\n",
        "    axs[i//10,i%10].axis('off')\n",
        "plt.show()\n",
        "\n",
        "print(\"\\nDimensione della lista FEAR: \")\n",
        "print(np.shape(list_train_fear_images))\n",
        "print(\"Prime 30 immagini della lista FEAR\")\n",
        "fig, axs = plt.subplots(3,10)\n",
        "for i in range(30):\n",
        "    axs[i//10,i%10].imshow(cv2.imread(list_train_fear_images[i], cv2.IMREAD_GRAYSCALE),cmap='gray')\n",
        "    axs[i//10,i%10].axis('off')\n",
        "plt.show()\n",
        "\n",
        "print(\"\\nDimensione della lista HAPPY: \")\n",
        "print(np.shape(list_train_happy_images))\n",
        "print(\"Prime 30 immagini della lista HAPPY\")\n",
        "fig, axs = plt.subplots(3,10)\n",
        "for i in range(30):\n",
        "    axs[i//10,i%10].imshow(cv2.imread(list_train_happy_images[i], cv2.IMREAD_GRAYSCALE),cmap='gray')\n",
        "    axs[i//10,i%10].axis('off')\n",
        "plt.show()\n",
        "\n",
        "print(\"\\nDimensione della lista NEUTRAL: \")\n",
        "print(np.shape(list_train_neutral_images))\n",
        "print(\"Prime 30 immagini della lista NEUTRAL\")\n",
        "fig, axs = plt.subplots(3,10)\n",
        "for i in range(30):\n",
        "    axs[i//10,i%10].imshow(cv2.imread(list_train_neutral_images[i], cv2.IMREAD_GRAYSCALE),cmap='gray')\n",
        "    axs[i//10,i%10].axis('off')\n",
        "plt.show()\n",
        "\n",
        "print(\"\\nDimensione della lista SAD: \")\n",
        "print(np.shape(list_train_sad_images))\n",
        "print(\"Prime 30 immagini della lista SAD\")\n",
        "fig, axs = plt.subplots(3,10)\n",
        "for i in range(30):\n",
        "    axs[i//10,i%10].imshow(cv2.imread(list_train_sad_images[i], cv2.IMREAD_GRAYSCALE),cmap='gray')\n",
        "    axs[i//10,i%10].axis('off')\n",
        "plt.show()\n",
        "\n",
        "print(\"\\nDimensione della lista SURPRISE: \")\n",
        "print(np.shape(list_train_surprise_images))\n",
        "print(\"Prime 30 immagini della lista SURPRISE\")\n",
        "fig, axs = plt.subplots(3,10)\n",
        "for i in range(30):\n",
        "    axs[i//10,i%10].imshow(cv2.imread(list_train_surprise_images[i], cv2.IMREAD_GRAYSCALE),cmap='gray')\n",
        "    axs[i//10,i%10].axis('off')\n",
        "plt.show()"
      ]
    },
    {
      "cell_type": "code",
      "execution_count": null,
      "metadata": {
        "id": "oLlfC1q0Eldk"
      },
      "outputs": [],
      "source": [
        ""
      ]
    },
    {
      "cell_type": "code",
      "execution_count": null,
      "metadata": {
        "id": "nQ5z_9Txtw3H"
      },
      "outputs": [],
      "source": [
        ""
      ]
    },
    {
      "cell_type": "code",
      "execution_count": null,
      "metadata": {
        "id": "BbtOJ6Q4uARP"
      },
      "outputs": [],
      "source": [
        ""
      ]
    },
    {
      "cell_type": "code",
      "execution_count": null,
      "metadata": {
        "id": "z6iwcKZ_kvjl"
      },
      "outputs": [],
      "source": [
        ""
      ]
    },
    {
      "cell_type": "code",
      "execution_count": null,
      "metadata": {
        "id": "Rr5jX-i6uaZu"
      },
      "outputs": [],
      "source": [
        ""
      ]
    },
    {
      "cell_type": "code",
      "execution_count": null,
      "metadata": {
        "id": "xejD4Gesugwm"
      },
      "outputs": [],
      "source": [
        ""
      ]
    },
    {
      "cell_type": "code",
      "execution_count": null,
      "metadata": {
        "id": "v1tlV1UEuk4m"
      },
      "outputs": [],
      "source": [
        ""
      ]
    },
    {
      "cell_type": "code",
      "execution_count": null,
      "metadata": {
        "id": "nfj1r68Gu0Qj"
      },
      "outputs": [],
      "source": [
        ""
      ]
    },
    {
      "cell_type": "code",
      "execution_count": null,
      "metadata": {
        "id": "CFJHrms7vACF"
      },
      "outputs": [],
      "source": [
        ""
      ]
    }
  ],
  "metadata": {
    "colab": {
      "collapsed_sections": [],
      "name": "Copy of TTR_estrazione_features_neurali.ipynb",
      "provenance": [],
      "authorship_tag": "ABX9TyORQQL/vktvtqCP6hzyY8fR",
      "include_colab_link": true
    },
    "kernelspec": {
      "display_name": "Python 3",
      "name": "python3"
    },
    "language_info": {
      "name": "python"
    },
    "widgets": {
      "application/vnd.jupyter.widget-state+json": {
        "2634f25251204fc080277b18d021ea1a": {
          "model_module": "@jupyter-widgets/base",
          "model_module_version": "1.2.0",
          "model_name": "LayoutModel",
          "state": {
            "_model_module": "@jupyter-widgets/base",
            "_model_module_version": "1.2.0",
            "_model_name": "LayoutModel",
            "_view_count": null,
            "_view_module": "@jupyter-widgets/base",
            "_view_module_version": "1.2.0",
            "_view_name": "LayoutView",
            "align_content": null,
            "align_items": null,
            "align_self": null,
            "border": null,
            "bottom": null,
            "display": null,
            "flex": null,
            "flex_flow": null,
            "grid_area": null,
            "grid_auto_columns": null,
            "grid_auto_flow": null,
            "grid_auto_rows": null,
            "grid_column": null,
            "grid_gap": null,
            "grid_row": null,
            "grid_template_areas": null,
            "grid_template_columns": null,
            "grid_template_rows": null,
            "height": null,
            "justify_content": null,
            "justify_items": null,
            "left": null,
            "margin": null,
            "max_height": null,
            "max_width": null,
            "min_height": null,
            "min_width": null,
            "object_fit": null,
            "object_position": null,
            "order": null,
            "overflow": null,
            "overflow_x": null,
            "overflow_y": null,
            "padding": null,
            "right": null,
            "top": null,
            "visibility": null,
            "width": null
          }
        },
        "34a3f19b79554b6c9de78aac21944c30": {
          "model_module": "@jupyter-widgets/controls",
          "model_module_version": "1.5.0",
          "model_name": "FloatProgressModel",
          "state": {
            "_dom_classes": [],
            "_model_module": "@jupyter-widgets/controls",
            "_model_module_version": "1.5.0",
            "_model_name": "FloatProgressModel",
            "_view_count": null,
            "_view_module": "@jupyter-widgets/controls",
            "_view_module_version": "1.5.0",
            "_view_name": "ProgressView",
            "bar_style": "success",
            "description": "",
            "description_tooltip": null,
            "layout": "IPY_MODEL_726bd7b9a1734fb287c2a08e80fcf17c",
            "max": 102530333,
            "min": 0,
            "orientation": "horizontal",
            "style": "IPY_MODEL_4410993ca8f24a138019497e411ad21f",
            "value": 102530333
          }
        },
        "4410993ca8f24a138019497e411ad21f": {
          "model_module": "@jupyter-widgets/controls",
          "model_module_version": "1.5.0",
          "model_name": "ProgressStyleModel",
          "state": {
            "_model_module": "@jupyter-widgets/controls",
            "_model_module_version": "1.5.0",
            "_model_name": "ProgressStyleModel",
            "_view_count": null,
            "_view_module": "@jupyter-widgets/base",
            "_view_module_version": "1.2.0",
            "_view_name": "StyleView",
            "bar_color": null,
            "description_width": ""
          }
        },
        "4da2c9c916f3446f8c765472bac0592f": {
          "model_module": "@jupyter-widgets/controls",
          "model_module_version": "1.5.0",
          "model_name": "HBoxModel",
          "state": {
            "_dom_classes": [],
            "_model_module": "@jupyter-widgets/controls",
            "_model_module_version": "1.5.0",
            "_model_name": "HBoxModel",
            "_view_count": null,
            "_view_module": "@jupyter-widgets/controls",
            "_view_module_version": "1.5.0",
            "_view_name": "HBoxView",
            "box_style": "",
            "children": [
              "IPY_MODEL_eda4c4cddbf34149832dec194ee4c470",
              "IPY_MODEL_34a3f19b79554b6c9de78aac21944c30",
              "IPY_MODEL_e261a60240d24fa09efb465e4c11ecbb"
            ],
            "layout": "IPY_MODEL_bc133687977244cd898a1f1712f41964"
          }
        },
        "726bd7b9a1734fb287c2a08e80fcf17c": {
          "model_module": "@jupyter-widgets/base",
          "model_module_version": "1.2.0",
          "model_name": "LayoutModel",
          "state": {
            "_model_module": "@jupyter-widgets/base",
            "_model_module_version": "1.2.0",
            "_model_name": "LayoutModel",
            "_view_count": null,
            "_view_module": "@jupyter-widgets/base",
            "_view_module_version": "1.2.0",
            "_view_name": "LayoutView",
            "align_content": null,
            "align_items": null,
            "align_self": null,
            "border": null,
            "bottom": null,
            "display": null,
            "flex": null,
            "flex_flow": null,
            "grid_area": null,
            "grid_auto_columns": null,
            "grid_auto_flow": null,
            "grid_auto_rows": null,
            "grid_column": null,
            "grid_gap": null,
            "grid_row": null,
            "grid_template_areas": null,
            "grid_template_columns": null,
            "grid_template_rows": null,
            "height": null,
            "justify_content": null,
            "justify_items": null,
            "left": null,
            "margin": null,
            "max_height": null,
            "max_width": null,
            "min_height": null,
            "min_width": null,
            "object_fit": null,
            "object_position": null,
            "order": null,
            "overflow": null,
            "overflow_x": null,
            "overflow_y": null,
            "padding": null,
            "right": null,
            "top": null,
            "visibility": null,
            "width": null
          }
        },
        "7bacb7864a734099861ee16a62af899d": {
          "model_module": "@jupyter-widgets/controls",
          "model_module_version": "1.5.0",
          "model_name": "DescriptionStyleModel",
          "state": {
            "_model_module": "@jupyter-widgets/controls",
            "_model_module_version": "1.5.0",
            "_model_name": "DescriptionStyleModel",
            "_view_count": null,
            "_view_module": "@jupyter-widgets/base",
            "_view_module_version": "1.2.0",
            "_view_name": "StyleView",
            "description_width": ""
          }
        },
        "bc133687977244cd898a1f1712f41964": {
          "model_module": "@jupyter-widgets/base",
          "model_module_version": "1.2.0",
          "model_name": "LayoutModel",
          "state": {
            "_model_module": "@jupyter-widgets/base",
            "_model_module_version": "1.2.0",
            "_model_name": "LayoutModel",
            "_view_count": null,
            "_view_module": "@jupyter-widgets/base",
            "_view_module_version": "1.2.0",
            "_view_name": "LayoutView",
            "align_content": null,
            "align_items": null,
            "align_self": null,
            "border": null,
            "bottom": null,
            "display": null,
            "flex": null,
            "flex_flow": null,
            "grid_area": null,
            "grid_auto_columns": null,
            "grid_auto_flow": null,
            "grid_auto_rows": null,
            "grid_column": null,
            "grid_gap": null,
            "grid_row": null,
            "grid_template_areas": null,
            "grid_template_columns": null,
            "grid_template_rows": null,
            "height": null,
            "justify_content": null,
            "justify_items": null,
            "left": null,
            "margin": null,
            "max_height": null,
            "max_width": null,
            "min_height": null,
            "min_width": null,
            "object_fit": null,
            "object_position": null,
            "order": null,
            "overflow": null,
            "overflow_x": null,
            "overflow_y": null,
            "padding": null,
            "right": null,
            "top": null,
            "visibility": null,
            "width": null
          }
        },
        "d34f195c1994462bb772de8c885bc0c5": {
          "model_module": "@jupyter-widgets/controls",
          "model_module_version": "1.5.0",
          "model_name": "DescriptionStyleModel",
          "state": {
            "_model_module": "@jupyter-widgets/controls",
            "_model_module_version": "1.5.0",
            "_model_name": "DescriptionStyleModel",
            "_view_count": null,
            "_view_module": "@jupyter-widgets/base",
            "_view_module_version": "1.2.0",
            "_view_name": "StyleView",
            "description_width": ""
          }
        },
        "e261a60240d24fa09efb465e4c11ecbb": {
          "model_module": "@jupyter-widgets/controls",
          "model_module_version": "1.5.0",
          "model_name": "HTMLModel",
          "state": {
            "_dom_classes": [],
            "_model_module": "@jupyter-widgets/controls",
            "_model_module_version": "1.5.0",
            "_model_name": "HTMLModel",
            "_view_count": null,
            "_view_module": "@jupyter-widgets/controls",
            "_view_module_version": "1.5.0",
            "_view_name": "HTMLView",
            "description": "",
            "description_tooltip": null,
            "layout": "IPY_MODEL_e85dbc796cd44b01bb54c946f9eb0d8f",
            "placeholder": "​",
            "style": "IPY_MODEL_7bacb7864a734099861ee16a62af899d",
            "value": " 97.8M/97.8M [00:00&lt;00:00, 206MB/s]"
          }
        },
        "e85dbc796cd44b01bb54c946f9eb0d8f": {
          "model_module": "@jupyter-widgets/base",
          "model_module_version": "1.2.0",
          "model_name": "LayoutModel",
          "state": {
            "_model_module": "@jupyter-widgets/base",
            "_model_module_version": "1.2.0",
            "_model_name": "LayoutModel",
            "_view_count": null,
            "_view_module": "@jupyter-widgets/base",
            "_view_module_version": "1.2.0",
            "_view_name": "LayoutView",
            "align_content": null,
            "align_items": null,
            "align_self": null,
            "border": null,
            "bottom": null,
            "display": null,
            "flex": null,
            "flex_flow": null,
            "grid_area": null,
            "grid_auto_columns": null,
            "grid_auto_flow": null,
            "grid_auto_rows": null,
            "grid_column": null,
            "grid_gap": null,
            "grid_row": null,
            "grid_template_areas": null,
            "grid_template_columns": null,
            "grid_template_rows": null,
            "height": null,
            "justify_content": null,
            "justify_items": null,
            "left": null,
            "margin": null,
            "max_height": null,
            "max_width": null,
            "min_height": null,
            "min_width": null,
            "object_fit": null,
            "object_position": null,
            "order": null,
            "overflow": null,
            "overflow_x": null,
            "overflow_y": null,
            "padding": null,
            "right": null,
            "top": null,
            "visibility": null,
            "width": null
          }
        },
        "eda4c4cddbf34149832dec194ee4c470": {
          "model_module": "@jupyter-widgets/controls",
          "model_module_version": "1.5.0",
          "model_name": "HTMLModel",
          "state": {
            "_dom_classes": [],
            "_model_module": "@jupyter-widgets/controls",
            "_model_module_version": "1.5.0",
            "_model_name": "HTMLModel",
            "_view_count": null,
            "_view_module": "@jupyter-widgets/controls",
            "_view_module_version": "1.5.0",
            "_view_name": "HTMLView",
            "description": "",
            "description_tooltip": null,
            "layout": "IPY_MODEL_2634f25251204fc080277b18d021ea1a",
            "placeholder": "​",
            "style": "IPY_MODEL_d34f195c1994462bb772de8c885bc0c5",
            "value": "100%"
          }
        }
      }
    }
  },
  "nbformat": 4,
  "nbformat_minor": 0
}