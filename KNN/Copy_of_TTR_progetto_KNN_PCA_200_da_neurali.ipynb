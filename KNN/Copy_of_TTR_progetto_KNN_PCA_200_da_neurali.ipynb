{
  "nbformat": 4,
  "nbformat_minor": 0,
  "metadata": {
    "colab": {
      "name": "Copy of TTR_progetto_KNN_PCA_200_da_neurali.ipynb",
      "provenance": [],
      "collapsed_sections": [],
      "include_colab_link": true
    },
    "kernelspec": {
      "name": "python3",
      "display_name": "Python 3"
    }
  },
  "cells": [
    {
      "cell_type": "markdown",
      "metadata": {
        "id": "view-in-github",
        "colab_type": "text"
      },
      "source": [
        "<a href=\"https://colab.research.google.com/github/danielegilardi/TTR_project/blob/main/KNN/Copy_of_TTR_progetto_KNN_PCA_200_da_neurali.ipynb\" target=\"_parent\"><img src=\"https://colab.research.google.com/assets/colab-badge.svg\" alt=\"Open In Colab\"/></a>"
      ]
    },
    {
      "cell_type": "markdown",
      "source": [
        "Classificatore: KNN\n",
        "\n",
        "Features: estratte con PCA da feature estratte con reti neurali"
      ],
      "metadata": {
        "id": "B4JjCKWVyquk"
      }
    },
    {
      "cell_type": "code",
      "metadata": {
        "id": "ciffFoxHQU-5",
        "colab": {
          "base_uri": "https://localhost:8080/"
        },
        "outputId": "ad64ef55-eb86-45c5-bc36-87a9e285a0a8"
      },
      "source": [
        "!wget https://www.dropbox.com/s/45gqwwfiuwfczcq/features_PCA_200_da_neurali.zip?dl=0\n",
        "!unzip features_PCA_200_da_neurali.zip?dl=0\n",
        "\n",
        "!wget https://www.dropbox.com/s/rhbde9gw8vnk9dm/array_labels.zip?dl=0\n",
        "!unzip array_labels.zip?dl=0"
      ],
      "execution_count": null,
      "outputs": [
        {
          "output_type": "stream",
          "name": "stdout",
          "text": [
            "--2022-05-13 14:08:43--  https://www.dropbox.com/s/45gqwwfiuwfczcq/features_PCA_200_da_neurali.zip?dl=0\n",
            "Resolving www.dropbox.com (www.dropbox.com)... 162.125.1.18, 2620:100:6016:18::a27d:112\n",
            "Connecting to www.dropbox.com (www.dropbox.com)|162.125.1.18|:443... connected.\n",
            "HTTP request sent, awaiting response... 301 Moved Permanently\n",
            "Location: /s/raw/45gqwwfiuwfczcq/features_PCA_200_da_neurali.zip [following]\n",
            "--2022-05-13 14:08:43--  https://www.dropbox.com/s/raw/45gqwwfiuwfczcq/features_PCA_200_da_neurali.zip\n",
            "Reusing existing connection to www.dropbox.com:443.\n",
            "HTTP request sent, awaiting response... 302 Found\n",
            "Location: https://uca524d9fe5a1c67cd0a3b85afd0.dl.dropboxusercontent.com/cd/0/inline/BlMC10NjE80KG2XjwwHWzoNklPnPIvS8c3jo9153DGJ8d0wsOX6s8VTW6wkMJtXAlRu0T0cJuNU1fTCY60Dv0ownZPuvEinvMXn6l879wPyRls5wuMVcNqyjVz2B_JssiNtt1veGgLEPCQQFrgwxrqaSeDZs3yYVz0HlmRemiYkPcQ/file# [following]\n",
            "--2022-05-13 14:08:43--  https://uca524d9fe5a1c67cd0a3b85afd0.dl.dropboxusercontent.com/cd/0/inline/BlMC10NjE80KG2XjwwHWzoNklPnPIvS8c3jo9153DGJ8d0wsOX6s8VTW6wkMJtXAlRu0T0cJuNU1fTCY60Dv0ownZPuvEinvMXn6l879wPyRls5wuMVcNqyjVz2B_JssiNtt1veGgLEPCQQFrgwxrqaSeDZs3yYVz0HlmRemiYkPcQ/file\n",
            "Resolving uca524d9fe5a1c67cd0a3b85afd0.dl.dropboxusercontent.com (uca524d9fe5a1c67cd0a3b85afd0.dl.dropboxusercontent.com)... 162.125.1.15, 2620:100:6016:15::a27d:10f\n",
            "Connecting to uca524d9fe5a1c67cd0a3b85afd0.dl.dropboxusercontent.com (uca524d9fe5a1c67cd0a3b85afd0.dl.dropboxusercontent.com)|162.125.1.15|:443... connected.\n",
            "HTTP request sent, awaiting response... 302 Found\n",
            "Location: /cd/0/inline2/BlPJeJtYdokjj71RgJ90bIx7XpMmnm2nAhqUrEz0vnfOXI0KNcyz1ZmVtjXwmPzG8yTTz0_C7unAvHGII8QjaTsWq0KJFpsUV6kcQFJ7qD32193-p8MoGgGcJDFqw_IHNb4nliMzhmukcfEyFHhY4rNznHunPauuhCGRe_f7gNn82k7R5dY8rngeAc8c0zBPlmdb238Oshy9-EO7W9PPFfRWk65tkiSvRuh4Z5aO5vG4U8JxFELWVdo6tieRPj04N--gx4Mw4DorU2ztIy914P9JZgEyhXFHaTHE2wRmbZudLwsVbbnNigDBTOTmH6uvnk6yzR2OzEPUZJhgIsF7wA5XaNvnPhRISwv1OcM_ZVDQ2I9kAeoiLqtTpsX1u6USj4NR02YAvGdck0F8rDmxf2kUwqb8psnpGIP_1A-gAfmYbw/file [following]\n",
            "--2022-05-13 14:08:43--  https://uca524d9fe5a1c67cd0a3b85afd0.dl.dropboxusercontent.com/cd/0/inline2/BlPJeJtYdokjj71RgJ90bIx7XpMmnm2nAhqUrEz0vnfOXI0KNcyz1ZmVtjXwmPzG8yTTz0_C7unAvHGII8QjaTsWq0KJFpsUV6kcQFJ7qD32193-p8MoGgGcJDFqw_IHNb4nliMzhmukcfEyFHhY4rNznHunPauuhCGRe_f7gNn82k7R5dY8rngeAc8c0zBPlmdb238Oshy9-EO7W9PPFfRWk65tkiSvRuh4Z5aO5vG4U8JxFELWVdo6tieRPj04N--gx4Mw4DorU2ztIy914P9JZgEyhXFHaTHE2wRmbZudLwsVbbnNigDBTOTmH6uvnk6yzR2OzEPUZJhgIsF7wA5XaNvnPhRISwv1OcM_ZVDQ2I9kAeoiLqtTpsX1u6USj4NR02YAvGdck0F8rDmxf2kUwqb8psnpGIP_1A-gAfmYbw/file\n",
            "Reusing existing connection to uca524d9fe5a1c67cd0a3b85afd0.dl.dropboxusercontent.com:443.\n",
            "HTTP request sent, awaiting response... 200 OK\n",
            "Length: 60282856 (57M) [application/zip]\n",
            "Saving to: ‘features_PCA_200_da_neurali.zip?dl=0.1’\n",
            "\n",
            "features_PCA_200_da 100%[===================>]  57.49M  90.6MB/s    in 0.6s    \n",
            "\n",
            "2022-05-13 14:08:45 (90.6 MB/s) - ‘features_PCA_200_da_neurali.zip?dl=0.1’ saved [60282856/60282856]\n",
            "\n",
            "Archive:  features_PCA_200_da_neurali.zip?dl=0\n",
            "replace features_PCA_200_da_neurali/features_test_PCA_200_da_neurali.npy? [y]es, [n]o, [A]ll, [N]one, [r]ename: A\n",
            "  inflating: features_PCA_200_da_neurali/features_test_PCA_200_da_neurali.npy  \n",
            "  inflating: features_PCA_200_da_neurali/features_train_PCA_200_da_neurali.npy  \n",
            "--2022-05-13 14:09:35--  https://www.dropbox.com/s/rhbde9gw8vnk9dm/array_labels.zip?dl=0\n",
            "Resolving www.dropbox.com (www.dropbox.com)... 162.125.1.18, 2620:100:6016:18::a27d:112\n",
            "Connecting to www.dropbox.com (www.dropbox.com)|162.125.1.18|:443... connected.\n",
            "HTTP request sent, awaiting response... 301 Moved Permanently\n",
            "Location: /s/raw/rhbde9gw8vnk9dm/array_labels.zip [following]\n",
            "--2022-05-13 14:09:35--  https://www.dropbox.com/s/raw/rhbde9gw8vnk9dm/array_labels.zip\n",
            "Reusing existing connection to www.dropbox.com:443.\n",
            "HTTP request sent, awaiting response... 302 Found\n",
            "Location: https://uce1966409e3f74084b96bbdbcde.dl.dropboxusercontent.com/cd/0/inline/BlPsKN0DBNwvCV9XbHy0OnAUgPNwf3tCy328PQypMecJihtNBuJoe9iAisUCjql8YwQr0VCm9YBmcTBY3A5T9e1Mrk_ffWdm5F6T9snKp36lVG7_N2wcSlj9PA-u6N7ermUJFUXzFyKfzWYw1qdvof5w4fD8FQEh8YA0Q0swgu2gPg/file# [following]\n",
            "--2022-05-13 14:09:36--  https://uce1966409e3f74084b96bbdbcde.dl.dropboxusercontent.com/cd/0/inline/BlPsKN0DBNwvCV9XbHy0OnAUgPNwf3tCy328PQypMecJihtNBuJoe9iAisUCjql8YwQr0VCm9YBmcTBY3A5T9e1Mrk_ffWdm5F6T9snKp36lVG7_N2wcSlj9PA-u6N7ermUJFUXzFyKfzWYw1qdvof5w4fD8FQEh8YA0Q0swgu2gPg/file\n",
            "Resolving uce1966409e3f74084b96bbdbcde.dl.dropboxusercontent.com (uce1966409e3f74084b96bbdbcde.dl.dropboxusercontent.com)... 162.125.1.15, 2620:100:6022:15::a27d:420f\n",
            "Connecting to uce1966409e3f74084b96bbdbcde.dl.dropboxusercontent.com (uce1966409e3f74084b96bbdbcde.dl.dropboxusercontent.com)|162.125.1.15|:443... connected.\n",
            "HTTP request sent, awaiting response... 302 Found\n",
            "Location: /cd/0/inline2/BlO2D5JvfzaZiHTkhGgq0N4kBLu9PmmzhJlHvzJ63K7NGnKv7SSDNX5sczaL80__EpalPF66xfh6v-7SMXNaJfGSgaxzsCojA3xZi5Wc15Q2PyLTv0EWZ6y4aOx5wlwoGpHo_Mt9ItL28w-BhE9_0Fk0bh4yRhmpRUDQPhRIm5sjplVbl5A-wXyW_5OSnlkp2CLZbBBVpTCSQiM3xyKLEthhUTupVIJM2T1Kj_M9wadF1a1NbbQ36wWPE087Vd1tbdO67ua-VF4GTuAYKZWEzEuPuWoQdW2E4FqfdEBcSOnZe356ocdltp_-avreMSKaql2iX3zmQBM_4riGA_6WSSqbPKWQuC_VcDXMxrY6_mMiBSLMpW_0wjg-kWyk2Eq4L8_zdOtRO0IfOg77kG8_fwDQlpaoCOnAnGxD9kGSFyyfLQ/file [following]\n",
            "--2022-05-13 14:09:36--  https://uce1966409e3f74084b96bbdbcde.dl.dropboxusercontent.com/cd/0/inline2/BlO2D5JvfzaZiHTkhGgq0N4kBLu9PmmzhJlHvzJ63K7NGnKv7SSDNX5sczaL80__EpalPF66xfh6v-7SMXNaJfGSgaxzsCojA3xZi5Wc15Q2PyLTv0EWZ6y4aOx5wlwoGpHo_Mt9ItL28w-BhE9_0Fk0bh4yRhmpRUDQPhRIm5sjplVbl5A-wXyW_5OSnlkp2CLZbBBVpTCSQiM3xyKLEthhUTupVIJM2T1Kj_M9wadF1a1NbbQ36wWPE087Vd1tbdO67ua-VF4GTuAYKZWEzEuPuWoQdW2E4FqfdEBcSOnZe356ocdltp_-avreMSKaql2iX3zmQBM_4riGA_6WSSqbPKWQuC_VcDXMxrY6_mMiBSLMpW_0wjg-kWyk2Eq4L8_zdOtRO0IfOg77kG8_fwDQlpaoCOnAnGxD9kGSFyyfLQ/file\n",
            "Reusing existing connection to uce1966409e3f74084b96bbdbcde.dl.dropboxusercontent.com:443.\n",
            "HTTP request sent, awaiting response... 200 OK\n",
            "Length: 1265 (1.2K) [application/zip]\n",
            "Saving to: ‘array_labels.zip?dl=0.1’\n",
            "\n",
            "array_labels.zip?dl 100%[===================>]   1.24K  --.-KB/s    in 0s      \n",
            "\n",
            "2022-05-13 14:09:36 (367 MB/s) - ‘array_labels.zip?dl=0.1’ saved [1265/1265]\n",
            "\n",
            "Archive:  array_labels.zip?dl=0\n",
            "replace array_labels/array_test_labels.npy? [y]es, [n]o, [A]ll, [N]one, [r]ename: A\n",
            "  inflating: array_labels/array_test_labels.npy  \n",
            "  inflating: array_labels/array_train_labels.npy  \n"
          ]
        }
      ]
    },
    {
      "cell_type": "code",
      "metadata": {
        "id": "uMNf-ZcRRYE6"
      },
      "source": [
        "\n",
        "import numpy as np\n",
        "\n",
        "# 1. Carico in memoria il dataset\n",
        "x_train = np.load('features_PCA_200_da_neurali/features_train_PCA_200_da_neurali.npy')\n",
        "y_train = np.load('array_labels/array_train_labels.npy')\n",
        "\n",
        "x_test = np.load('features_PCA_200_da_neurali/features_test_PCA_200_da_neurali.npy')\n",
        "y_test = np.load('array_labels/array_test_labels.npy')"
      ],
      "execution_count": null,
      "outputs": []
    },
    {
      "cell_type": "code",
      "source": [
        "# Analizzo i dati\n",
        "\n",
        "# Capisco quanti oggetti e feature ho\n",
        "nobj = x_train.shape[0]\n",
        "nfeat = x_train.shape[1]\n",
        "print(nobj, nfeat)\n",
        "\n",
        "# Capisco come sono i dati: scatter plot\n",
        "from matplotlib import pyplot as plt\n",
        "\n",
        "plt.scatter(x_train[:,0],x_train[:,1], c=y_train)\n",
        "plt.show()"
      ],
      "metadata": {
        "id": "OMjQTX9OhrWP",
        "colab": {
          "base_uri": "https://localhost:8080/",
          "height": 282
        },
        "outputId": "da8cce82-b98d-4a48-b542-2130658156ce"
      },
      "execution_count": null,
      "outputs": [
        {
          "output_type": "stream",
          "name": "stdout",
          "text": [
            "31805 200\n"
          ]
        },
        {
          "output_type": "display_data",
          "data": {
            "text/plain": [
              "<Figure size 432x288 with 1 Axes>"
            ],
            "image/png": "[encoded data removed]"
          },
          "metadata": {
            "needs_background": "light"
          }
        }
      ]
    },
    {
      "cell_type": "code",
      "metadata": {
        "id": "2biXjq45S93g",
        "colab": {
          "base_uri": "https://localhost:8080/"
        },
        "outputId": "0ad7d314-9b58-462d-ae7a-21cf9ed3cebb"
      },
      "source": [
        "# Inizializzo i parametri\n",
        "\n",
        "K = 1\n",
        "fun = 'hamming'\n",
        "\n",
        "# Calcolo la distanza fra tutti gli oggetti di train e gli oggetti di test\n",
        "\n",
        "from scipy.spatial.distance import cdist\n",
        "\n",
        "D = cdist(x_train,x_test,metric=fun)\n",
        " \n",
        "# Per ogni dato di test (argomento axis=0), ordino le distanze dalla più piccola alla più grande e trovo gli indici di train dei più vicini\n",
        "# Tengo solo i primi K\n",
        "\n",
        "neighbors = np.argsort(D, axis=0)\n",
        "\n",
        "k_neighbors = neighbors[:K, :]\n",
        "\n",
        "# Controllo le etichette di questi K punti: devo trovare la più frequente:\n",
        "#     - Ottengo le etichette dei punti vicini\n",
        "#     - Trovo l'etichetta più frequente! Utilizzo la moda!\n",
        "\n",
        "neighbors_labels = y_train[k_neighbors]\n",
        "\n",
        "\n",
        "from scipy import stats\n",
        "prediction = stats.mode(neighbors_labels, axis=0)[0]\n",
        "print(np.shape(prediction))\n",
        "print(prediction[:20])\n",
        "\n",
        "\n",
        "# Calcolo l'accuratezza\n",
        "accuracy = np.sum(prediction == y_test) / len(y_test)\n",
        "print('Accuratezza del classificatore: ' + \"{0:.2f}\".format(accuracy*100) + '%')\n"
      ],
      "execution_count": null,
      "outputs": [
        {
          "output_type": "stream",
          "name": "stdout",
          "text": [
            "(1, 7178)\n",
            "[[0 0 0 ... 0 0 0]]\n",
            "Accuratezza del classificatore: 13.35%\n"
          ]
        }
      ]
    },
    {
      "cell_type": "code",
      "source": [
        "length = prediction.shape[1]\n",
        "print(length)\n",
        "print(prediction[:20])\n",
        "\n",
        "predicted = np.reshape(prediction, length)\n",
        "\n",
        "print(np.shape(predicted))\n",
        "print(predicted[:20])"
      ],
      "metadata": {
        "colab": {
          "base_uri": "https://localhost:8080/"
        },
        "id": "3E4wkYMyJAmL",
        "outputId": "f94f03d8-fd36-47fd-f0c4-4be4ff787c48"
      },
      "execution_count": null,
      "outputs": [
        {
          "output_type": "stream",
          "name": "stdout",
          "text": [
            "7178\n",
            "[[0 0 0 ... 0 0 0]]\n",
            "(7178,)\n",
            "[0 0 0 0 0 0 0 0 0 0 0 0 0 0 0 0 0 0 0 0]\n"
          ]
        }
      ]
    },
    {
      "cell_type": "code",
      "source": [
        "# matrice di confusione\n",
        "\n",
        "cmc = np.zeros((7,7))\n",
        "\n",
        "for pr,y_te in zip(predicted,y_test):\n",
        "  cmc[y_te,pr] += 1.0\n"
      ],
      "metadata": {
        "id": "Mcy8l1fZHync"
      },
      "execution_count": null,
      "outputs": []
    },
    {
      "cell_type": "code",
      "source": [
        "# calcolo accuratezza, precision e recall media rispetto alle 7 classi\n",
        "\n",
        "accuracy = np.sum(cmc.diagonal())/np.sum(cmc)\n",
        "\n",
        "precision = []\n",
        "recall = []\n",
        "for i in range(7):\n",
        "  precision.append(cmc[i,i]/ np.sum(cmc[:,i]))\n",
        "  recall.append(cmc[i,i]/ np.sum(cmc[i,:]))\n",
        "\n",
        "precision = np.asarray(precision)\n",
        "recall  = np.asarray(recall)\n",
        "\n",
        "print(np.shape(precision))\n",
        "print(np.shape(recall))\n",
        "\n",
        "precision_m = np.mean(precision)\n",
        "recall_m = np.mean(recall)\n",
        "\n",
        "print(np.shape(precision_m))\n",
        "print(np.shape(recall_m))\n",
        "print(precision_m)\n",
        "print(recall_m)\n",
        "\n",
        "print('Accuratezza del classificatore: ' + \"{0:.2f}\".format(accuracy*100) + '%')\n",
        "print('Precisione media del classificatore: ' + \"{0:.2f}\".format(precision_m))\n",
        "print('Recall media del classificatore: ' + \"{0:.2f}\".format(recall_m))"
      ],
      "metadata": {
        "id": "Ene7KhYP5zb5",
        "colab": {
          "base_uri": "https://localhost:8080/"
        },
        "outputId": "c762d0d4-98a7-456e-fae5-0da9864bc2aa"
      },
      "execution_count": null,
      "outputs": [
        {
          "output_type": "stream",
          "name": "stdout",
          "text": [
            "(7,)\n",
            "(7,)\n",
            "()\n",
            "()\n",
            "nan\n",
            "0.14285714285714285\n",
            "Accuratezza del classificatore: 13.35%\n",
            "Precisione media del classificatore: nan\n",
            "Recall media del classificatore: 0.14\n"
          ]
        },
        {
          "output_type": "stream",
          "name": "stderr",
          "text": [
            "/usr/local/lib/python3.7/dist-packages/ipykernel_launcher.py:8: RuntimeWarning: invalid value encountered in double_scalars\n",
            "  \n"
          ]
        }
      ]
    },
    {
      "cell_type": "code",
      "source": [
        "from matplotlib import pyplot as plt\n",
        "import seaborn as sns; \n",
        "\n",
        "\n",
        "plt.rcParams[\"figure.figsize\"] = (8,6)\n",
        "sns.set_theme()\n",
        "\n",
        "ax = sns.heatmap(cmc, annot=True,fmt=\".0f\", linewidths=.1, cmap=\"CMRmap\")"
      ],
      "metadata": {
        "colab": {
          "base_uri": "https://localhost:8080/",
          "height": 377
        },
        "id": "8HwR46hEORAw",
        "outputId": "60e4678e-b662-4311-f0ca-1844e5c057ce"
      },
      "execution_count": null,
      "outputs": [
        {
          "output_type": "display_data",
          "data": {
            "text/plain": [
              "<Figure size 576x432 with 2 Axes>"
            ],
            "image/png": "[encoded data removed]"
          },
          "metadata": {}
        }
      ]
    },
    {
      "cell_type": "code",
      "source": [
        "# ATTENZIONE, con questo codice vengono cambiati i valori della matrice cmc\n",
        "# viene fatto solo per plottare con le percentuali\n",
        "# al termine, riaggiornare la matrice di confusione\n",
        "\n",
        "cmc2 = cmc\n",
        "\n",
        "for i in range(7):\n",
        "  total = 0\n",
        "  for j in range(7):\n",
        "    total += cmc[i,j]\n",
        "  for j in range(7):\n",
        "    cmc2[i,j] = cmc[i,j]*100/total\n",
        "  \n",
        "plt.rcParams[\"figure.figsize\"] = (8,6)\n",
        "sns.set_theme()\n",
        "\n",
        "ax = sns.heatmap(cmc2, annot=True,vmin=0.0, vmax=100.0,fmt=\".0f\", linewidths=.1, cmap=\"crest\")\n",
        "#ax = sns.heatmap(cmc, linewidths=.3)\n",
        "#ax = sns.heatmap(cmc, cmap=\"YlGnBu\")"
      ],
      "metadata": {
        "id": "RtssORoj5gHb",
        "colab": {
          "base_uri": "https://localhost:8080/",
          "height": 381
        },
        "outputId": "db81ea0b-d0f8-494c-822b-9bddc81dcc1e"
      },
      "execution_count": null,
      "outputs": [
        {
          "output_type": "display_data",
          "data": {
            "text/plain": [
              "<Figure size 576x432 with 2 Axes>"
            ],
            "image/png": "[encoded data removed]"
          },
          "metadata": {}
        }
      ]
    },
    {
      "cell_type": "code",
      "source": [
        ""
      ],
      "metadata": {
        "colab": {
          "base_uri": "https://localhost:8080/"
        },
        "id": "r8wqNdcOImms",
        "outputId": "3dcf6f0f-dcb8-40aa-b6c1-c6ca451bf49f"
      },
      "execution_count": null,
      "outputs": [
        {
          "output_type": "stream",
          "name": "stdout",
          "text": [
            "(7,)\n",
            "(7,)\n",
            "()\n",
            "()\n",
            "0.6638404291885284\n",
            "0.6638404291885284\n",
            "Accuratezza del classificatore: 66.54%\n",
            "Precisione media del classificatore: 0.66\n",
            "Recall media del classificatore: 0.66\n"
          ]
        }
      ]
    }
  ]
}