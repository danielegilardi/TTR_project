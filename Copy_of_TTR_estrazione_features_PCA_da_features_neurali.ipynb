{
  "cells": [
    {
      "cell_type": "markdown",
      "metadata": {
        "id": "view-in-github",
        "colab_type": "text"
      },
      "source": [
        "<a href=\"https://colab.research.google.com/github/danielegilardi/TTR_project/blob/main/Copy_of_TTR_estrazione_features_PCA_da_features_neurali.ipynb\" target=\"_parent\"><img src=\"https://colab.research.google.com/assets/colab-badge.svg\" alt=\"Open In Colab\"/></a>"
      ]
    },
    {
      "cell_type": "markdown",
      "source": [
        "Estrazione features PCA da features estratte con Resnet 50 non normalizzate"
      ],
      "metadata": {
        "id": "hzdpxLVQPjw5"
      }
    },
    {
      "cell_type": "code",
      "execution_count": null,
      "metadata": {
        "id": "BsWRoS8nlBv3",
        "colab": {
          "base_uri": "https://localhost:8080/"
        },
        "outputId": "d2f5541d-b7b1-4822-8768-4105d1767923"
      },
      "outputs": [
        {
          "output_type": "stream",
          "name": "stdout",
          "text": [
            "--2022-05-08 20:12:27--  https://www.dropbox.com/s/l1ybi3k5zmusf9m/features_resnet.zip?dl=0\n",
            "Resolving www.dropbox.com (www.dropbox.com)... 162.125.2.18, 2620:100:6017:18::a27d:212\n",
            "Connecting to www.dropbox.com (www.dropbox.com)|162.125.2.18|:443... connected.\n",
            "HTTP request sent, awaiting response... 301 Moved Permanently\n",
            "Location: /s/raw/l1ybi3k5zmusf9m/features_resnet.zip [following]\n",
            "--2022-05-08 20:12:27--  https://www.dropbox.com/s/raw/l1ybi3k5zmusf9m/features_resnet.zip\n",
            "Reusing existing connection to www.dropbox.com:443.\n",
            "HTTP request sent, awaiting response... 302 Found\n",
            "Location: https://uc90ada3547bf5a181b4d56bbd4e.dl.dropboxusercontent.com/cd/0/inline/Bk4KKeEaqJmgF2ccOkYbDfA3o_3EyHmCvF2alCUM4w3uvSTzGVO4LbyMSKLHQnGCFI8NAHsObr4ftblAejGRdalMmV0d_AcGe1sGZvi8IU7Edkjvjqbtuo-LflvzN4llOHEj0y05dlAQd-Y8DuzYyKsHwzSoRjQ51InYeIizMRpLAA/file# [following]\n",
            "--2022-05-08 20:12:28--  https://uc90ada3547bf5a181b4d56bbd4e.dl.dropboxusercontent.com/cd/0/inline/Bk4KKeEaqJmgF2ccOkYbDfA3o_3EyHmCvF2alCUM4w3uvSTzGVO4LbyMSKLHQnGCFI8NAHsObr4ftblAejGRdalMmV0d_AcGe1sGZvi8IU7Edkjvjqbtuo-LflvzN4llOHEj0y05dlAQd-Y8DuzYyKsHwzSoRjQ51InYeIizMRpLAA/file\n",
            "Resolving uc90ada3547bf5a181b4d56bbd4e.dl.dropboxusercontent.com (uc90ada3547bf5a181b4d56bbd4e.dl.dropboxusercontent.com)... 162.125.3.15, 2620:100:6017:15::a27d:20f\n",
            "Connecting to uc90ada3547bf5a181b4d56bbd4e.dl.dropboxusercontent.com (uc90ada3547bf5a181b4d56bbd4e.dl.dropboxusercontent.com)|162.125.3.15|:443... connected.\n",
            "HTTP request sent, awaiting response... 302 Found\n",
            "Location: /cd/0/inline2/Bk4By6CgLgQF-wmhd3NQ3m-Z47veVPHskXiHJqop9ZzxO9yHePhIsapjGcy8qzJ3zPSsvB5HMmyHVuc2KcS5CZH4STGsoTQgCG7aRPTY-30adcWDUVTvUp-3bSI-JwbJmt0JN9hjckADj2nlD2asVJ6nR7j7Iomw8clwXyjj4ZJHp65WPFMT12VdCPqq6Xcv1um-1IwGxdG2i4tOiBZEJDJmT0wRChlSJXW2JmIUi3rpRjSeDZUlqc-U-9yN8oAK7jm4TVUEJDpSPBqOctHhleFFMv8StDCPoLnKMFrGgs4FbZY9ORbXepMS8Y5eCdX6-9Hq5cuTfo5IgpVWiE6yszcAChUBKuokE0OXrtQVsOGCnuQs_-a48VJ9majP_RGLdXcawMWrkVrwZHnpC5Dhk6y0U12tGrB1cqNGoPWsRyNsjQ/file [following]\n",
            "--2022-05-08 20:12:28--  https://uc90ada3547bf5a181b4d56bbd4e.dl.dropboxusercontent.com/cd/0/inline2/Bk4By6CgLgQF-wmhd3NQ3m-Z47veVPHskXiHJqop9ZzxO9yHePhIsapjGcy8qzJ3zPSsvB5HMmyHVuc2KcS5CZH4STGsoTQgCG7aRPTY-30adcWDUVTvUp-3bSI-JwbJmt0JN9hjckADj2nlD2asVJ6nR7j7Iomw8clwXyjj4ZJHp65WPFMT12VdCPqq6Xcv1um-1IwGxdG2i4tOiBZEJDJmT0wRChlSJXW2JmIUi3rpRjSeDZUlqc-U-9yN8oAK7jm4TVUEJDpSPBqOctHhleFFMv8StDCPoLnKMFrGgs4FbZY9ORbXepMS8Y5eCdX6-9Hq5cuTfo5IgpVWiE6yszcAChUBKuokE0OXrtQVsOGCnuQs_-a48VJ9majP_RGLdXcawMWrkVrwZHnpC5Dhk6y0U12tGrB1cqNGoPWsRyNsjQ/file\n",
            "Reusing existing connection to uc90ada3547bf5a181b4d56bbd4e.dl.dropboxusercontent.com:443.\n",
            "HTTP request sent, awaiting response... 200 OK\n",
            "Length: 233406633 (223M) [application/zip]\n",
            "Saving to: ‘features_resnet.zip?dl=0’\n",
            "\n",
            "features_resnet.zip 100%[===================>] 222.59M  50.6MB/s    in 4.6s    \n",
            "\n",
            "2022-05-08 20:12:33 (48.3 MB/s) - ‘features_resnet.zip?dl=0’ saved [233406633/233406633]\n",
            "\n",
            "Archive:  features_resnet.zip?dl=0\n",
            "   creating: features_resnet/\n",
            "  inflating: features_resnet/features_test_resnet.npy  \n",
            "  inflating: features_resnet/features_train_resnet.npy  \n",
            "--2022-05-08 20:12:40--  https://www.dropbox.com/s/rhbde9gw8vnk9dm/array_labels.zip?dl=0\n",
            "Resolving www.dropbox.com (www.dropbox.com)... 162.125.2.18, 2620:100:6017:18::a27d:212\n",
            "Connecting to www.dropbox.com (www.dropbox.com)|162.125.2.18|:443... connected.\n",
            "HTTP request sent, awaiting response... 301 Moved Permanently\n",
            "Location: /s/raw/rhbde9gw8vnk9dm/array_labels.zip [following]\n",
            "--2022-05-08 20:12:40--  https://www.dropbox.com/s/raw/rhbde9gw8vnk9dm/array_labels.zip\n",
            "Reusing existing connection to www.dropbox.com:443.\n",
            "HTTP request sent, awaiting response... 302 Found\n",
            "Location: https://uc0baa86258f4461ba7f7e8953eb.dl.dropboxusercontent.com/cd/0/inline/Bk4Pci9eP5AEOnzfD49PscYM7q7uMTaSIQukeZh6Pkg0LZ7UCKOjbAuw06sSEwTqVqR5E2LSfjRhtF8c-fQfRKeQlhU5XysqSTCCP7N-vn7DfAYS7pK1OmhEip5gIQGsTfvIDMhKW9ViVwICYX-bFgPtp9z0HWFWoxo9Fzw5uMXiQw/file# [following]\n",
            "--2022-05-08 20:12:40--  https://uc0baa86258f4461ba7f7e8953eb.dl.dropboxusercontent.com/cd/0/inline/Bk4Pci9eP5AEOnzfD49PscYM7q7uMTaSIQukeZh6Pkg0LZ7UCKOjbAuw06sSEwTqVqR5E2LSfjRhtF8c-fQfRKeQlhU5XysqSTCCP7N-vn7DfAYS7pK1OmhEip5gIQGsTfvIDMhKW9ViVwICYX-bFgPtp9z0HWFWoxo9Fzw5uMXiQw/file\n",
            "Resolving uc0baa86258f4461ba7f7e8953eb.dl.dropboxusercontent.com (uc0baa86258f4461ba7f7e8953eb.dl.dropboxusercontent.com)... 162.125.2.15, 2620:100:6017:15::a27d:20f\n",
            "Connecting to uc0baa86258f4461ba7f7e8953eb.dl.dropboxusercontent.com (uc0baa86258f4461ba7f7e8953eb.dl.dropboxusercontent.com)|162.125.2.15|:443... connected.\n",
            "HTTP request sent, awaiting response... 302 Found\n",
            "Location: /cd/0/inline2/Bk7dlsuRf6Hf6ttJBuAHdpY2xy0kwE9fOC1D8ydchBWsYj_X7P9I1zY93kXz6RXUpfa2QQ0dnZ2CV-LwnJ3kFG0xDSd07JxUnK1VrkTDNvSXf_SK0MiijrnPVKCAWTiLJwxmTGZbRVYPVDBRRcAe2wGDRplpUzlOzu8JH8QNWu7vRQilWs2ZOaqu7Q3YBVoHHVcjbIEKM1S2RL8WT0JIIl9v-ZGl1-DG8xHywolgJOZHkpn0ITJJlpQez0V7uIq8IWP_4TTI-ychnnEV-eAtSNvvzKBTDuggzu6gsduuQ_fUrfIiiIXOYT4q4e3-T5kwIjc7stV7RtRYztWhoc7QyAtlI8GTKTYvYfPaxfAzmGzo0rGwWhdgdXBR0gmfM5fYFTBmwblwy6x0Y_C-jcSH44iUcGafGixLppNy6cMU24GuYw/file [following]\n",
            "--2022-05-08 20:12:40--  https://uc0baa86258f4461ba7f7e8953eb.dl.dropboxusercontent.com/cd/0/inline2/Bk7dlsuRf6Hf6ttJBuAHdpY2xy0kwE9fOC1D8ydchBWsYj_X7P9I1zY93kXz6RXUpfa2QQ0dnZ2CV-LwnJ3kFG0xDSd07JxUnK1VrkTDNvSXf_SK0MiijrnPVKCAWTiLJwxmTGZbRVYPVDBRRcAe2wGDRplpUzlOzu8JH8QNWu7vRQilWs2ZOaqu7Q3YBVoHHVcjbIEKM1S2RL8WT0JIIl9v-ZGl1-DG8xHywolgJOZHkpn0ITJJlpQez0V7uIq8IWP_4TTI-ychnnEV-eAtSNvvzKBTDuggzu6gsduuQ_fUrfIiiIXOYT4q4e3-T5kwIjc7stV7RtRYztWhoc7QyAtlI8GTKTYvYfPaxfAzmGzo0rGwWhdgdXBR0gmfM5fYFTBmwblwy6x0Y_C-jcSH44iUcGafGixLppNy6cMU24GuYw/file\n",
            "Reusing existing connection to uc0baa86258f4461ba7f7e8953eb.dl.dropboxusercontent.com:443.\n",
            "HTTP request sent, awaiting response... 200 OK\n",
            "Length: 1265 (1.2K) [application/zip]\n",
            "Saving to: ‘array_labels.zip?dl=0’\n",
            "\n",
            "array_labels.zip?dl 100%[===================>]   1.24K  --.-KB/s    in 0s      \n",
            "\n",
            "2022-05-08 20:12:40 (152 MB/s) - ‘array_labels.zip?dl=0’ saved [1265/1265]\n",
            "\n",
            "Archive:  array_labels.zip?dl=0\n",
            "   creating: array_labels/\n",
            "  inflating: array_labels/array_test_labels.npy  \n",
            "  inflating: array_labels/array_train_labels.npy  \n"
          ]
        }
      ],
      "source": [
        "# scarico da dropbox le features precedentemente estratte con resnet 50\n",
        "\n",
        "!wget https://www.dropbox.com/s/l1ybi3k5zmusf9m/features_resnet.zip?dl=0\n",
        "!unzip features_resnet.zip?dl=0\n",
        "\n",
        "!wget https://www.dropbox.com/s/rhbde9gw8vnk9dm/array_labels.zip?dl=0\n",
        "!unzip array_labels.zip?dl=0"
      ]
    },
    {
      "cell_type": "code",
      "execution_count": null,
      "metadata": {
        "id": "U9sP3SYTl2jD"
      },
      "outputs": [],
      "source": [
        "import numpy as np\n",
        "\n",
        "# Carico in memoria le features\n",
        "x_train = np.load('features_resnet/features_train_resnet.npy')\n",
        "y_train = np.load('array_labels/array_train_labels.npy')\n",
        "\n",
        "x_test = np.load('features_resnet/features_test_resnet.npy')\n",
        "y_test = np.load('array_labels/array_test_labels.npy')"
      ]
    },
    {
      "cell_type": "code",
      "source": [
        "print(np.shape(x_train))\n",
        "print(np.shape(x_test))"
      ],
      "metadata": {
        "colab": {
          "base_uri": "https://localhost:8080/"
        },
        "id": "uD14IiTk3JVD",
        "outputId": "3f5172dd-d09b-473e-e3b1-d896ced9c8e6"
      },
      "execution_count": null,
      "outputs": [
        {
          "output_type": "stream",
          "name": "stdout",
          "text": [
            "(31805, 2048)\n",
            "(7178, 2048)\n"
          ]
        }
      ]
    },
    {
      "cell_type": "code",
      "source": [
        "\n",
        "X = x_train\n",
        "print(np.shape(X))"
      ],
      "metadata": {
        "colab": {
          "base_uri": "https://localhost:8080/"
        },
        "id": "CDX-dv-psiar",
        "outputId": "e7b20a3f-4e73-4227-969c-e33b3bfe0630"
      },
      "execution_count": null,
      "outputs": [
        {
          "output_type": "stream",
          "name": "stdout",
          "text": [
            "(31805, 2048)\n"
          ]
        }
      ]
    },
    {
      "cell_type": "code",
      "source": [
        "# Implemento la PCA: devo calcolare la matrice di trasformazione T\n",
        "# stimata dai dati di train\n",
        "\n",
        "# Calcolo la media di ogni feature e centro i dati\n",
        "m = np.mean(X,axis=0)\n",
        "Xc = X - m\n",
        "\n",
        "# Calcolo la matrice di covarianza dei dati centrati\n",
        "C = np.cov(Xc, rowvar=False)  \n",
        "\n",
        "# Calcolo autovalori e autovettori della matrice di covarianza\n",
        "\n",
        "lambdas,U = np.linalg.eigh(C)\n",
        "\n",
        "\n",
        "# Ordino gli autovalori dal più grande al più piccolo\n",
        "best_eig_idxs = np.argsort(lambdas)[::-1]\n",
        "best_eig = lambdas[best_eig_idxs]\n",
        "best_U = U[:,best_eig_idxs]"
      ],
      "metadata": {
        "id": "OBkP09nj9QlY"
      },
      "execution_count": null,
      "outputs": []
    },
    {
      "cell_type": "code",
      "source": [
        "import matplotlib.pyplot as plt\n",
        "\n",
        "# Costruisco la matrice di trasformazione T: \n",
        "# - in colonna gli autovettori corrispondenti ai N... autovalori più grandi\n",
        "T = best_U[:,:400]\n",
        "\n",
        "# Applico la trasformazione ai dati di train, faccio uno scatter plot dei dati trasformati\n",
        "# la trasformazione si esegue moltiplicando i dati per la matrice di trasformazione T\n",
        "XT = np.dot(Xc, T)\n",
        "print(np.shape(XT))\n",
        "plt.scatter(XT[:,0],XT[:,1], c=y_train)\n",
        "plt.show()\n",
        "np.save('features_train_PCA_400_da_neurali.npy', XT)"
      ],
      "metadata": {
        "colab": {
          "base_uri": "https://localhost:8080/",
          "height": 283
        },
        "id": "baoNUo-k-jzo",
        "outputId": "e544c9de-57c8-4f0b-d9a6-0872f56d2269"
      },
      "execution_count": null,
      "outputs": [
        {
          "output_type": "stream",
          "name": "stdout",
          "text": [
            "(31805, 400)\n"
          ]
        },
        {
          "output_type": "display_data",
          "data": {
            "text/plain": [
              "<Figure size 432x288 with 1 Axes>"
            ],
            "image/png": "[encoded data removed]"
          },
          "metadata": {
            "needs_background": "light"
          }
        }
      ]
    },
    {
      "cell_type": "code",
      "source": [
        "# Applico la trasformazione ai dati di test\n",
        "\n",
        "nobj_test = x_test.shape[0]\n",
        "print(np.shape(nobj_test))\n",
        "\n",
        "X_test = x_test\n",
        "\n",
        "Xc_test = X_test - m\n",
        "\n",
        "XT_test = np.dot(Xc_test, T)\n",
        "print(np.shape(XT_test))\n",
        "np.save('features_test_PCA_400_da_neurali.npy', XT_test)"
      ],
      "metadata": {
        "id": "dkMhlJRWOMbB",
        "colab": {
          "base_uri": "https://localhost:8080/"
        },
        "outputId": "cb2da365-ccac-4e92-c2d4-6f96a08d1286"
      },
      "execution_count": null,
      "outputs": [
        {
          "output_type": "stream",
          "name": "stdout",
          "text": [
            "()\n",
            "(7178, 400)\n"
          ]
        }
      ]
    },
    {
      "cell_type": "code",
      "source": [
        "# Come scelgo il numero giusto di autovalori per la mia matrice di Trasformazione\n",
        "\n",
        "#Ordino i miei autovalori\n",
        "\n",
        "D_ord = np.sort(lambdas)[::-1]\n",
        "d = D_ord.shape[0]\n",
        "\n",
        "fig, axs = plt.subplots(2)\n",
        "axs[0].plot(np.arange(1,d+1),D_ord)\n",
        "axs[0].scatter(np.arange(1,d+1),D_ord)\n",
        "\n",
        "y = np.cumsum(D_ord)/np.sum(D_ord)\n",
        "axs[1].plot(np.arange(1,d+1),y)\n",
        "axs[1].scatter(np.arange(1,d+1),y)\n",
        "\n",
        "plt.show()\n"
      ],
      "metadata": {
        "id": "KFPRKwAcxaKA",
        "colab": {
          "base_uri": "https://localhost:8080/",
          "height": 265
        },
        "outputId": "569d73a5-52a6-48bb-9184-9fd3fb7873d8"
      },
      "execution_count": null,
      "outputs": [
        {
          "output_type": "display_data",
          "data": {
            "text/plain": [
              "<Figure size 432x288 with 2 Axes>"
            ],
            "image/png": "[encoded data removed]"
          },
          "metadata": {
            "needs_background": "light"
          }
        }
      ]
    },
    {
      "cell_type": "code",
      "execution_count": null,
      "metadata": {
        "id": "oyvN-slPhK_o"
      },
      "outputs": [],
      "source": [
        ""
      ]
    }
  ],
  "metadata": {
    "colab": {
      "collapsed_sections": [],
      "name": "Copy of TTR_estrazione_features_PCA_da_features_neurali.ipynb",
      "provenance": [],
      "authorship_tag": "ABX9TyNHZ90A/mVAhQoUsYI16at0",
      "include_colab_link": true
    },
    "kernelspec": {
      "display_name": "Python 3",
      "name": "python3"
    },
    "language_info": {
      "name": "python"
    }
  },
  "nbformat": 4,
  "nbformat_minor": 0
}