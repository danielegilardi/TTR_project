{
  "nbformat": 4,
  "nbformat_minor": 0,
  "metadata": {
    "colab": {
      "name": "Copy of TTR_progetto-multiclassSVM_PCA_100_da_neurali.ipynb",
      "provenance": [],
      "collapsed_sections": [],
      "include_colab_link": true
    },
    "kernelspec": {
      "name": "python3",
      "display_name": "Python 3"
    }
  },
  "cells": [
    {
      "cell_type": "markdown",
      "metadata": {
        "id": "view-in-github",
        "colab_type": "text"
      },
      "source": [
        "<a href=\"https://colab.research.google.com/github/danielegilardi/TTR_project/blob/main/Copy_of_TTR_progetto_multiclassSVM_PCA_100_da_neurali.ipynb\" target=\"_parent\"><img src=\"https://colab.research.google.com/assets/colab-badge.svg\" alt=\"Open In Colab\"/></a>"
      ]
    },
    {
      "cell_type": "markdown",
      "source": [
        "Classificatore: SVM\n",
        "\n",
        "Features: estratte con PCA (primi 100 autovalori) da features estratte con resnet 50 (non normalizzate)"
      ],
      "metadata": {
        "id": "Vqyoyo7rnK-P"
      }
    },
    {
      "cell_type": "code",
      "metadata": {
        "id": "JNE3acBTVyS6",
        "colab": {
          "base_uri": "https://localhost:8080/"
        },
        "outputId": "7a04c989-1e7b-4bdf-c86b-ab2faf66081f"
      },
      "source": [
        "!wget https://www.dropbox.com/s/fujohdyubk7mofr/features_PCA_100_da_neurali.zip?dl=0\n",
        "!unzip features_PCA_100_da_neurali.zip?dl=0\n",
        "\n",
        "!wget https://www.dropbox.com/s/rhbde9gw8vnk9dm/array_labels.zip?dl=0\n",
        "!unzip array_labels.zip?dl=0"
      ],
      "execution_count": 1,
      "outputs": [
        {
          "output_type": "stream",
          "name": "stdout",
          "text": [
            "--2022-05-11 23:14:06--  https://www.dropbox.com/s/fujohdyubk7mofr/features_PCA_100_da_neurali.zip?dl=0\n",
            "Resolving www.dropbox.com (www.dropbox.com)... 162.125.5.18, 2620:100:601d:18::a27d:512\n",
            "Connecting to www.dropbox.com (www.dropbox.com)|162.125.5.18|:443... connected.\n",
            "HTTP request sent, awaiting response... 301 Moved Permanently\n",
            "Location: /s/raw/fujohdyubk7mofr/features_PCA_100_da_neurali.zip [following]\n",
            "--2022-05-11 23:14:06--  https://www.dropbox.com/s/raw/fujohdyubk7mofr/features_PCA_100_da_neurali.zip\n",
            "Reusing existing connection to www.dropbox.com:443.\n",
            "HTTP request sent, awaiting response... 302 Found\n",
            "Location: https://uc83086fb0f3c40bcabcf8dd722c.dl.dropboxusercontent.com/cd/0/inline/BlH1BNIfoIEt5_I-CijYDMGZuPVHNkdyvik9vdgQFBiiZOCg4A64cg4PUlzzXpKrVkX9FpSjgbFrvaiXAvci0b5I3E1N6lr06RM8lA6XCc1cGA_6Q2y_LY5kv_OHciROAAwGZdeQ07829ifJo47WmqZ90p1rTrLiGEeU_eaWyoHoWA/file# [following]\n",
            "--2022-05-11 23:14:06--  https://uc83086fb0f3c40bcabcf8dd722c.dl.dropboxusercontent.com/cd/0/inline/BlH1BNIfoIEt5_I-CijYDMGZuPVHNkdyvik9vdgQFBiiZOCg4A64cg4PUlzzXpKrVkX9FpSjgbFrvaiXAvci0b5I3E1N6lr06RM8lA6XCc1cGA_6Q2y_LY5kv_OHciROAAwGZdeQ07829ifJo47WmqZ90p1rTrLiGEeU_eaWyoHoWA/file\n",
            "Resolving uc83086fb0f3c40bcabcf8dd722c.dl.dropboxusercontent.com (uc83086fb0f3c40bcabcf8dd722c.dl.dropboxusercontent.com)... 162.125.5.15, 2620:100:601d:15::a27d:50f\n",
            "Connecting to uc83086fb0f3c40bcabcf8dd722c.dl.dropboxusercontent.com (uc83086fb0f3c40bcabcf8dd722c.dl.dropboxusercontent.com)|162.125.5.15|:443... connected.\n",
            "HTTP request sent, awaiting response... 302 Found\n",
            "Location: /cd/0/inline2/BlGgAnrYwzI01I8DQgdpGaeLc8uxCWNAh34JC7ZHgjnUNfoDRcTyvXFMjXBIJGrXh2DK4jCwgxAV0vwWP0-UftR1LA8QIF8sKDblDsIdi144ccrkGerehfakXNRbxiJc2Sv5hJGNQRXf19buvST0VPps0cF2f-98egy_N3elChOUpGF7Hw5ufkCIPTJDGHI5uvC-IWGtmsoiKep38loQ4NRsXpoI6pB5Xv5scl_dXqpY161wfZNLDc-JE72um8Wxa9XneU6jbVgHcxkKVng-dsYw2uxUumcBULgEEdtT3fMbOk71ZmdCB3_UThu5zXKfhELEtBFXVUzL6eDmEZd-iNfP3tYLLC6X_-C4Nrsmo69eflOdgCIUC3u9LaWS-5iBFHC2li4LoWIK2Qc_Q5eV0wiSBLvV_dUMeKMr7-ZQh7RJCA/file [following]\n",
            "--2022-05-11 23:14:07--  https://uc83086fb0f3c40bcabcf8dd722c.dl.dropboxusercontent.com/cd/0/inline2/BlGgAnrYwzI01I8DQgdpGaeLc8uxCWNAh34JC7ZHgjnUNfoDRcTyvXFMjXBIJGrXh2DK4jCwgxAV0vwWP0-UftR1LA8QIF8sKDblDsIdi144ccrkGerehfakXNRbxiJc2Sv5hJGNQRXf19buvST0VPps0cF2f-98egy_N3elChOUpGF7Hw5ufkCIPTJDGHI5uvC-IWGtmsoiKep38loQ4NRsXpoI6pB5Xv5scl_dXqpY161wfZNLDc-JE72um8Wxa9XneU6jbVgHcxkKVng-dsYw2uxUumcBULgEEdtT3fMbOk71ZmdCB3_UThu5zXKfhELEtBFXVUzL6eDmEZd-iNfP3tYLLC6X_-C4Nrsmo69eflOdgCIUC3u9LaWS-5iBFHC2li4LoWIK2Qc_Q5eV0wiSBLvV_dUMeKMr7-ZQh7RJCA/file\n",
            "Reusing existing connection to uc83086fb0f3c40bcabcf8dd722c.dl.dropboxusercontent.com:443.\n",
            "HTTP request sent, awaiting response... 200 OK\n",
            "Length: 30206190 (29M) [application/zip]\n",
            "Saving to: ‘features_PCA_100_da_neurali.zip?dl=0’\n",
            "\n",
            "features_PCA_100_da 100%[===================>]  28.81M  22.6MB/s    in 1.3s    \n",
            "\n",
            "2022-05-11 23:14:09 (22.6 MB/s) - ‘features_PCA_100_da_neurali.zip?dl=0’ saved [30206190/30206190]\n",
            "\n",
            "Archive:  features_PCA_100_da_neurali.zip?dl=0\n",
            "   creating: features_PCA_100_da_neurali/\n",
            "  inflating: features_PCA_100_da_neurali/features_test_PCA_100_da_neurali.npy  \n",
            "  inflating: features_PCA_100_da_neurali/features_train_PCA_100_da_neurali.npy  \n",
            "--2022-05-11 23:14:10--  https://www.dropbox.com/s/rhbde9gw8vnk9dm/array_labels.zip?dl=0\n",
            "Resolving www.dropbox.com (www.dropbox.com)... 162.125.5.18, 2620:100:601d:18::a27d:512\n",
            "Connecting to www.dropbox.com (www.dropbox.com)|162.125.5.18|:443... connected.\n",
            "HTTP request sent, awaiting response... 301 Moved Permanently\n",
            "Location: /s/raw/rhbde9gw8vnk9dm/array_labels.zip [following]\n",
            "--2022-05-11 23:14:10--  https://www.dropbox.com/s/raw/rhbde9gw8vnk9dm/array_labels.zip\n",
            "Reusing existing connection to www.dropbox.com:443.\n",
            "HTTP request sent, awaiting response... 302 Found\n",
            "Location: https://uc09ad5a37a2cb685eaa0b43ae71.dl.dropboxusercontent.com/cd/0/inline/BlHnt448L-Um2RvhWDKFPKy5F53t6NJGdscqZppXb7ZHFT7WIWgQQvB1h-UOMU4hWRD6XwYU9usy_iamje0wRi7q6kWBT85teYf3jZlv_-CzZeHCY9kQgzoxH25SlH8Yx6dw8Ey-c4Tga53HilgfT4U4dJSybwdsSIEatMGytNUkkQ/file# [following]\n",
            "--2022-05-11 23:14:10--  https://uc09ad5a37a2cb685eaa0b43ae71.dl.dropboxusercontent.com/cd/0/inline/BlHnt448L-Um2RvhWDKFPKy5F53t6NJGdscqZppXb7ZHFT7WIWgQQvB1h-UOMU4hWRD6XwYU9usy_iamje0wRi7q6kWBT85teYf3jZlv_-CzZeHCY9kQgzoxH25SlH8Yx6dw8Ey-c4Tga53HilgfT4U4dJSybwdsSIEatMGytNUkkQ/file\n",
            "Resolving uc09ad5a37a2cb685eaa0b43ae71.dl.dropboxusercontent.com (uc09ad5a37a2cb685eaa0b43ae71.dl.dropboxusercontent.com)... 162.125.5.15, 2620:100:601d:15::a27d:50f\n",
            "Connecting to uc09ad5a37a2cb685eaa0b43ae71.dl.dropboxusercontent.com (uc09ad5a37a2cb685eaa0b43ae71.dl.dropboxusercontent.com)|162.125.5.15|:443... connected.\n",
            "HTTP request sent, awaiting response... 302 Found\n",
            "Location: /cd/0/inline2/BlGA81EMgM_VSPujqiKmRBMhHR1HPfiiZ4jhMmuNmX1Xm48pi33VWVDav76p7C6o-23pn49oTWWTUnyvgcGOHAcuWIt2sGGe9xkpHJG_fipRvQTOkU3RNyNzoqcibsRMYffqLzSUkjPDnEbNIddFwCetZ9I3Tr6cQN7IL5LzKEBPfGjG4oeZt5DQ49ZJF9bcHQsdocE2jHFe-dGclaWEwaYCOjIj7bZZK0ZyY30ZZYOwkpWFfurFGdDN0Br87x97nIZLYF-Z3yGmdfv2OIOyEEx-Dng-vueBr07RCpaFtGHPR3IepJ18VerhWKNKdo04zIvBp-BW8VeVgbKGIyOn7o9db7nWCnrrBdnQ2V-0Lg0hjZXpIXs2p67vJvJu2W43tEhlRM-JQJaDqmx0PDRow4PiKZ91U2XXnWq7hpfozbVf9A/file [following]\n",
            "--2022-05-11 23:14:11--  https://uc09ad5a37a2cb685eaa0b43ae71.dl.dropboxusercontent.com/cd/0/inline2/BlGA81EMgM_VSPujqiKmRBMhHR1HPfiiZ4jhMmuNmX1Xm48pi33VWVDav76p7C6o-23pn49oTWWTUnyvgcGOHAcuWIt2sGGe9xkpHJG_fipRvQTOkU3RNyNzoqcibsRMYffqLzSUkjPDnEbNIddFwCetZ9I3Tr6cQN7IL5LzKEBPfGjG4oeZt5DQ49ZJF9bcHQsdocE2jHFe-dGclaWEwaYCOjIj7bZZK0ZyY30ZZYOwkpWFfurFGdDN0Br87x97nIZLYF-Z3yGmdfv2OIOyEEx-Dng-vueBr07RCpaFtGHPR3IepJ18VerhWKNKdo04zIvBp-BW8VeVgbKGIyOn7o9db7nWCnrrBdnQ2V-0Lg0hjZXpIXs2p67vJvJu2W43tEhlRM-JQJaDqmx0PDRow4PiKZ91U2XXnWq7hpfozbVf9A/file\n",
            "Reusing existing connection to uc09ad5a37a2cb685eaa0b43ae71.dl.dropboxusercontent.com:443.\n",
            "HTTP request sent, awaiting response... 200 OK\n",
            "Length: 1265 (1.2K) [application/zip]\n",
            "Saving to: ‘array_labels.zip?dl=0’\n",
            "\n",
            "array_labels.zip?dl 100%[===================>]   1.24K  --.-KB/s    in 0s      \n",
            "\n",
            "2022-05-11 23:14:11 (186 MB/s) - ‘array_labels.zip?dl=0’ saved [1265/1265]\n",
            "\n",
            "Archive:  array_labels.zip?dl=0\n",
            "   creating: array_labels/\n",
            "  inflating: array_labels/array_test_labels.npy  \n",
            "  inflating: array_labels/array_train_labels.npy  \n"
          ]
        }
      ]
    },
    {
      "cell_type": "code",
      "source": [
        "# Versione one-vs-rest del classificatore SVM per distinguere le classi del dataset FER_modified\n",
        "# Vengono usate le features trovate tramite PCA da features da resnet50\n",
        "\n",
        "import numpy as np\n",
        "\n",
        "# 1. Carico in memoria il dataset\n",
        "x_train = np.load('features_PCA_100_da_neurali/features_train_PCA_100_da_neurali.npy')\n",
        "y_train = np.load('array_labels/array_train_labels.npy')\n",
        "\n",
        "x_test = np.load('features_PCA_100_da_neurali/features_test_PCA_100_da_neurali.npy')\n",
        "y_test = np.load('array_labels/array_test_labels.npy')"
      ],
      "metadata": {
        "id": "y0_iQitbjvgi"
      },
      "execution_count": 2,
      "outputs": []
    },
    {
      "cell_type": "code",
      "source": [
        "print(\"np.shape(x_train): \")\n",
        "print(np.shape(x_train))\n",
        "print(\"np.shape(y_train): \")\n",
        "print(np.shape(y_train))\n",
        "print(\"np.shape(x_test): \")\n",
        "print(np.shape(x_test))\n",
        "print(\"np.shape(y_test): \")\n",
        "print(np.shape(y_test))\n",
        "print(x_train[2])\n",
        "print(x_test[2])\n",
        "print(y_train)\n",
        "print(y_test)"
      ],
      "metadata": {
        "colab": {
          "base_uri": "https://localhost:8080/"
        },
        "id": "Ox66Kdp-NZZM",
        "outputId": "a39e696c-1177-4139-d4aa-df97fe8f3e8a"
      },
      "execution_count": null,
      "outputs": [
        {
          "output_type": "stream",
          "name": "stdout",
          "text": [
            "np.shape(x_train): \n",
            "(31805, 100)\n",
            "np.shape(y_train): \n",
            "(31805,)\n",
            "np.shape(x_test): \n",
            "(7178, 100)\n",
            "np.shape(y_test): \n",
            "(7178,)\n",
            "[12.34073204 -2.78026266  6.50642826 -5.42848475  0.73162059  4.74263074\n",
            " -4.54197456  2.72113499  1.56161869  5.91566907 -3.06627726  9.53574009\n",
            "  3.48610719 -1.88480091  0.1642171  -1.14962492 -2.76322971 -7.08905347\n",
            "  4.90810658  0.74915813  1.88902393  0.29762309 -6.6557073   0.68981535\n",
            "  3.05040325  2.74565171  2.8077241  -2.27709722 -2.89581871  0.36836621\n",
            "  2.0200143   1.08690611  0.8212788   3.92165684  0.31315094 -0.704273\n",
            " -2.8011148  -3.48366099 -0.86510371  2.82890136 -2.43990451 -0.52937879\n",
            "  2.21166578 -1.11659575  3.83974498  3.43999072  1.62131486  2.45591836\n",
            "  2.77249811  1.23647665 -2.89511088  0.56481752 -1.02833688  1.01989642\n",
            " -2.28983411 -5.88779839  0.53029099  0.45195429 -0.94617264 -1.18368264\n",
            " -1.92372986  1.89241639  3.29274985  0.99141481  3.74391133  1.57375719\n",
            "  1.58786278  1.53247249 -0.16812576 -2.37696401  0.15384459  0.45649818\n",
            " -0.92020114 -2.44659784 -4.32545379  1.73522629 -0.34514508  5.00830906\n",
            "  0.32479244  2.69429723 -4.15833324 -2.4149937  -2.71819818 -0.49511147\n",
            " -1.23960247 -2.19446928  0.84353692 -1.39029414  0.46416272  0.24267109\n",
            "  1.10441515  1.39307577  4.41343111  0.73262527 -4.02655988 -0.3707372\n",
            "  0.29033887  1.3024872   0.1297925   0.26802072]\n",
            "[ 3.07055389  3.24851966  2.53047645  0.51630069  3.65087843  1.08328703\n",
            "  0.97921738 -0.60810656  1.75673307  1.83969923 -1.50095833 -0.21897729\n",
            " -0.45424433  4.51132286 -2.30810815 -1.62586668 -2.36051422  0.86706062\n",
            "  1.09146741  1.34363265 -0.10013514  2.60943411  2.94169974  1.20687805\n",
            " -1.21721769  4.12799985 -4.06084154 -0.57734572 -1.89825273  0.31906117\n",
            "  2.02297931  3.2590776   2.00855402  1.06263008 -2.24482881  0.62744022\n",
            "  0.25583091  1.86338592 -0.29911889 -1.6448512   2.09545451 -4.10302544\n",
            "  1.92887848  3.5045336   0.48112538 -0.42848533 -0.19416886 -1.26861625\n",
            " -3.14218127 -0.39497471  0.35362263 -0.50426087 -3.34047177 -0.99847041\n",
            " -2.16492696  1.65394044  1.54633019  2.70788683  2.7689822   1.97843532\n",
            "  0.85628071 -1.00271956  1.06035463  0.90977937 -0.12536957 -1.65389401\n",
            " -1.17818364  0.71434481  0.13672256 -0.14362223  0.51040623 -1.35405894\n",
            "  0.48156431  1.47998705 -0.03289789 -2.29662889 -2.40237455  2.60062887\n",
            "  2.15081966 -2.37380587  2.25001864  2.13949384  1.5850207  -0.3956275\n",
            "  1.6375665  -0.86999606  1.0978147  -2.61619164 -2.0276678  -0.57645701\n",
            " -1.3965301   0.43499432  1.4589564  -1.57541462 -0.71129337  1.03841525\n",
            "  3.03899614  0.7016475   1.25241528  1.88173164]\n",
            "[0 0 0 ... 6 6 6]\n",
            "[0 0 0 ... 6 6 6]\n"
          ]
        }
      ]
    },
    {
      "cell_type": "code",
      "metadata": {
        "id": "MzsSInXgV-38",
        "outputId": "ca1c8005-0815-4817-df90-6bb7180456e4",
        "colab": {
          "base_uri": "https://localhost:8080/",
          "height": 283
        }
      },
      "source": [
        "# Analizzo i dati\n",
        "\n",
        "# Capisco quanti oggetti e feature ho\n",
        "nobj = x_train.shape[0]\n",
        "nfeat = x_train.shape[1]\n",
        "print(nobj, nfeat)\n",
        "\n",
        "# Capisco come sono i dati: scatter plot con le prime 2 features\n",
        "from matplotlib import pyplot as plt\n",
        "\n",
        "plt.scatter(x_train[:,0],x_train[:,1], c=y_train)\n",
        "plt.show()\n"
      ],
      "execution_count": 3,
      "outputs": [
        {
          "output_type": "stream",
          "name": "stdout",
          "text": [
            "31805 100\n"
          ]
        },
        {
          "output_type": "display_data",
          "data": {
            "text/plain": [
              "<Figure size 432x288 with 1 Axes>"
            ],
            "image/png": "[encoded data removed]"
          },
          "metadata": {
            "needs_background": "light"
          }
        }
      ]
    },
    {
      "cell_type": "code",
      "source": [
        "from sklearn.svm import SVC\n",
        "\n",
        "# Inizializzo i parametri\n",
        "kernel = 'rbf'\n",
        "#degree = 5\n",
        "#probability = True\n",
        "# class_weight = dict or ‘balanced’, default=None\n",
        "decision_function_shape = 'ovr'\n",
        "\n",
        "max_iteration = 10000\n",
        "\n",
        "# Inizializzo un modello di classificazione SVM per ognuna delle 7 classi\n",
        "models = [SVC(kernel=kernel, max_iter=max_iteration, probability=True),\n",
        "          SVC(kernel=kernel, max_iter=max_iteration, probability=True),\n",
        "          SVC(kernel=kernel, max_iter=max_iteration, probability=True),\n",
        "          SVC(kernel=kernel, max_iter=max_iteration, probability=True),\n",
        "          SVC(kernel=kernel, max_iter=max_iteration, probability=True),\n",
        "          SVC(kernel=kernel, max_iter=max_iteration, probability=True),\n",
        "          SVC(kernel=kernel, max_iter=max_iteration, probability=True)]"
      ],
      "metadata": {
        "id": "DDsmyMn1u0LR"
      },
      "execution_count": 4,
      "outputs": []
    },
    {
      "cell_type": "code",
      "source": [
        "# Addestro i modelli\n",
        "for i in range(7):\n",
        "  models[i].fit(x_train, y_train==i)"
      ],
      "metadata": {
        "id": "_z-_pGY-Prh6",
        "colab": {
          "base_uri": "https://localhost:8080/"
        },
        "outputId": "a0c88f0f-7c5c-4ddb-960f-89dfb4c3ce6b"
      },
      "execution_count": 5,
      "outputs": [
        {
          "output_type": "stream",
          "name": "stderr",
          "text": [
            "/usr/local/lib/python3.7/dist-packages/sklearn/svm/_base.py:289: ConvergenceWarning: Solver terminated early (max_iter=10000).  Consider pre-processing your data with StandardScaler or MinMaxScaler.\n",
            "  ConvergenceWarning,\n",
            "/usr/local/lib/python3.7/dist-packages/sklearn/svm/_base.py:289: ConvergenceWarning: Solver terminated early (max_iter=10000).  Consider pre-processing your data with StandardScaler or MinMaxScaler.\n",
            "  ConvergenceWarning,\n",
            "/usr/local/lib/python3.7/dist-packages/sklearn/svm/_base.py:289: ConvergenceWarning: Solver terminated early (max_iter=10000).  Consider pre-processing your data with StandardScaler or MinMaxScaler.\n",
            "  ConvergenceWarning,\n",
            "/usr/local/lib/python3.7/dist-packages/sklearn/svm/_base.py:289: ConvergenceWarning: Solver terminated early (max_iter=10000).  Consider pre-processing your data with StandardScaler or MinMaxScaler.\n",
            "  ConvergenceWarning,\n",
            "/usr/local/lib/python3.7/dist-packages/sklearn/svm/_base.py:289: ConvergenceWarning: Solver terminated early (max_iter=10000).  Consider pre-processing your data with StandardScaler or MinMaxScaler.\n",
            "  ConvergenceWarning,\n",
            "/usr/local/lib/python3.7/dist-packages/sklearn/svm/_base.py:289: ConvergenceWarning: Solver terminated early (max_iter=10000).  Consider pre-processing your data with StandardScaler or MinMaxScaler.\n",
            "  ConvergenceWarning,\n",
            "/usr/local/lib/python3.7/dist-packages/sklearn/svm/_base.py:289: ConvergenceWarning: Solver terminated early (max_iter=10000).  Consider pre-processing your data with StandardScaler or MinMaxScaler.\n",
            "  ConvergenceWarning,\n"
          ]
        }
      ]
    },
    {
      "cell_type": "code",
      "source": [
        "# Classifico i dati del testing set\n",
        "predicted_scores = []\n",
        "for i in range(7):\n",
        "  predicted_scores.append(models[i].predict_proba(x_test)[:,1])\n",
        "\n",
        "predicted_scores = np.asarray(predicted_scores)\n",
        "predicted = np.argmax(predicted_scores,axis=0)\n",
        "\n",
        "print(np.shape(predicted_scores))\n",
        "print(np.shape(predicted))\n",
        "print(predicted_scores[:7])\n",
        "print(predicted[:20])"
      ],
      "metadata": {
        "id": "by_zIjHvPudS",
        "colab": {
          "base_uri": "https://localhost:8080/"
        },
        "outputId": "eeb871d3-7928-4b0c-a937-aac971a271cd"
      },
      "execution_count": 6,
      "outputs": [
        {
          "output_type": "stream",
          "name": "stdout",
          "text": [
            "(7, 7178)\n",
            "(7178,)\n",
            "[[0.33803819 0.26047483 0.11665379 ... 0.12244204 0.10117107 0.14840036]\n",
            " [0.01146006 0.00250049 0.00661018 ... 0.01134377 0.00994047 0.02050959]\n",
            " [0.15671739 0.08522228 0.1440783  ... 0.11097383 0.19311054 0.15025462]\n",
            " ...\n",
            " [0.12936429 0.13784001 0.2082661  ... 0.12242482 0.16247145 0.12706039]\n",
            " [0.18601    0.14918842 0.12984677 ... 0.13308688 0.21141591 0.14023535]\n",
            " [0.04105303 0.05666406 0.1280258  ... 0.11276937 0.17002927 0.07386915]]\n",
            "[0 0 3 0 3 0 0 3 0 3 0 3 3 3 3 0 3 3 0 0]\n"
          ]
        }
      ]
    },
    {
      "cell_type": "code",
      "source": [
        "# matrice di confusione\n",
        "\n",
        "cmc = np.zeros((7,7))\n",
        "\n",
        "for pr,y_te in zip(predicted,y_test):\n",
        "  cmc[y_te,pr] += 1.0"
      ],
      "metadata": {
        "id": "M-u9fJk0a_0A"
      },
      "execution_count": 11,
      "outputs": []
    },
    {
      "cell_type": "code",
      "source": [
        "# calcolo accuratezza, precision e recall media rispetto alle 7 classi\n",
        "\n",
        "accuracy = np.sum(cmc.diagonal())/np.sum(cmc)\n",
        "\n",
        "precision = []\n",
        "recall = []\n",
        "for i in range(7):\n",
        "  precision.append(cmc[i,i]/ np.sum(cmc[:,i]))\n",
        "  recall.append(cmc[i,i]/ np.sum(cmc[i,:]))\n",
        "\n",
        "precision = np.asarray(precision)\n",
        "recall  = np.asarray(recall)\n",
        "\n",
        "print(np.shape(precision))\n",
        "print(np.shape(recall))\n",
        "\n",
        "precision_m = np.mean(precision)\n",
        "recall_m = np.mean(recall)\n",
        "\n",
        "print(np.shape(precision_m))\n",
        "print(np.shape(recall_m))\n",
        "print(precision_m)\n",
        "print(recall_m)\n",
        "\n",
        "print('Accuratezza del classificatore: ' + \"{0:.2f}\".format(accuracy*100) + '%')\n",
        "print('Precisione media del classificatore: ' + \"{0:.2f}\".format(precision_m))\n",
        "print('Recall media del classificatore: ' + \"{0:.2f}\".format(recall_m))"
      ],
      "metadata": {
        "colab": {
          "base_uri": "https://localhost:8080/"
        },
        "id": "zVB3yD6CCUNY",
        "outputId": "e0b98581-907e-4ced-fbe7-b3e837583a1a"
      },
      "execution_count": 8,
      "outputs": [
        {
          "output_type": "stream",
          "name": "stdout",
          "text": [
            "(7,)\n",
            "(7,)\n",
            "()\n",
            "()\n",
            "0.7329662921592924\n",
            "0.45657892005357464\n",
            "Accuratezza del classificatore: 49.09%\n",
            "Precisione media del classificatore: 0.73\n",
            "Recall media del classificatore: 0.46\n"
          ]
        }
      ]
    },
    {
      "cell_type": "code",
      "source": [
        "import seaborn as sns; \n",
        "\n",
        "\n",
        "plt.rcParams[\"figure.figsize\"] = (8,6)\n",
        "sns.set_theme()\n",
        "\n",
        "ax = sns.heatmap(cmc, annot=True,fmt=\".0f\", linewidths=.1, cmap=\"crest\")\n",
        "#ax = sns.heatmap(cmc, linewidths=.3)\n",
        "#ax = sns.heatmap(cmc, cmap=\"YlGnBu\")\n"
      ],
      "metadata": {
        "colab": {
          "base_uri": "https://localhost:8080/",
          "height": 377
        },
        "id": "udhfNHVLodBs",
        "outputId": "b1ea59af-20bc-42e8-d94e-c7014494e03e"
      },
      "execution_count": 9,
      "outputs": [
        {
          "output_type": "display_data",
          "data": {
            "text/plain": [
              "<Figure size 576x432 with 2 Axes>"
            ],
            "image/png": "[encoded data removed]"
          },
          "metadata": {}
        }
      ]
    },
    {
      "cell_type": "code",
      "source": [
        "# ATTENZIONE, con questo codice vengono cambiati i valori della matrice cmc\n",
        "# viene fatto solo per plottare con le percentuali per ogni riga\n",
        "# poi riaggiornare la matrice di confusione\n",
        "\n",
        "cmc2 = cmc\n",
        "\n",
        "for i in range(7):\n",
        "  total = 0\n",
        "  for j in range(7):\n",
        "    total += cmc[i,j]\n",
        "  for j in range(7):\n",
        "    cmc2[i,j] = cmc[i,j]*100/total\n",
        "  \n",
        "plt.rcParams[\"figure.figsize\"] = (8,6)\n",
        "sns.set_theme()\n",
        "\n",
        "ax = sns.heatmap(cmc2, annot=True,vmin=0.0, vmax=100.0,fmt=\".0f\", linewidths=.1, cmap=\"crest\")\n",
        "#ax = sns.heatmap(cmc, linewidths=.3)\n",
        "#ax = sns.heatmap(cmc, cmap=\"YlGnBu\")"
      ],
      "metadata": {
        "colab": {
          "base_uri": "https://localhost:8080/",
          "height": 381
        },
        "id": "iaHyxOCtCNlJ",
        "outputId": "0e5d2be9-0cba-4992-88f6-e87eef33522f"
      },
      "execution_count": 10,
      "outputs": [
        {
          "output_type": "display_data",
          "data": {
            "text/plain": [
              "<Figure size 576x432 with 2 Axes>"
            ],
            "image/png": "[encoded data removed]"
          },
          "metadata": {}
        }
      ]
    }
  ]
}