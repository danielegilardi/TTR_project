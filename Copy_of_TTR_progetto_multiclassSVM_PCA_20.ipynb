{
  "nbformat": 4,
  "nbformat_minor": 0,
  "metadata": {
    "colab": {
      "name": "Copy of  TTR_progetto-multiclassSVM_PCA_20.ipynb",
      "provenance": [],
      "collapsed_sections": [],
      "include_colab_link": true
    },
    "kernelspec": {
      "name": "python3",
      "display_name": "Python 3"
    }
  },
  "cells": [
    {
      "cell_type": "markdown",
      "metadata": {
        "id": "view-in-github",
        "colab_type": "text"
      },
      "source": [
        "<a href=\"https://colab.research.google.com/github/danielegilardi/TTR_project/blob/main/Copy_of_TTR_progetto_multiclassSVM_PCA_20.ipynb\" target=\"_parent\"><img src=\"https://colab.research.google.com/assets/colab-badge.svg\" alt=\"Open In Colab\"/></a>"
      ]
    },
    {
      "cell_type": "code",
      "metadata": {
        "id": "JNE3acBTVyS6",
        "colab": {
          "base_uri": "https://localhost:8080/"
        },
        "outputId": "d400f304-20c8-4845-d02c-051acf15616f"
      },
      "source": [
        "!wget https://www.dropbox.com/s/49hxl2m0y3sq6j2/features_PCA_20.zip?dl=0\n",
        "!unzip features_PCA_20.zip?dl=0\n",
        "\n",
        "!wget https://www.dropbox.com/s/rhbde9gw8vnk9dm/array_labels.zip?dl=0\n",
        "!unzip array_labels.zip?dl=0"
      ],
      "execution_count": null,
      "outputs": [
        {
          "output_type": "stream",
          "name": "stdout",
          "text": [
            "--2022-05-01 16:00:31--  https://www.dropbox.com/s/49hxl2m0y3sq6j2/features_PCA_20.zip?dl=0\n",
            "Resolving www.dropbox.com (www.dropbox.com)... 162.125.81.18, 2620:100:6030:18::a27d:5012\n",
            "Connecting to www.dropbox.com (www.dropbox.com)|162.125.81.18|:443... connected.\n",
            "HTTP request sent, awaiting response... 301 Moved Permanently\n",
            "Location: /s/raw/49hxl2m0y3sq6j2/features_PCA_20.zip [following]\n",
            "--2022-05-01 16:00:32--  https://www.dropbox.com/s/raw/49hxl2m0y3sq6j2/features_PCA_20.zip\n",
            "Reusing existing connection to www.dropbox.com:443.\n",
            "HTTP request sent, awaiting response... 302 Found\n",
            "Location: https://ucde2333c3112599261e5634608a.dl.dropboxusercontent.com/cd/0/inline/Bke04ccuzujJtM1skFG_INMtrlWit1LVMCDGIuv53k5uj9Kfn39T9RFeIhvKKAp4X6AB9xAgGEyQKfVNOe-gS4lhX0usXoX6kMU6U3IpygjHoXQlFAspg0PXau_WQgVdPB52VixPGeBKtjeIKFkDM9ubhskGjthFO8F1Wy4LkAlaAg/file# [following]\n",
            "--2022-05-01 16:00:33--  https://ucde2333c3112599261e5634608a.dl.dropboxusercontent.com/cd/0/inline/Bke04ccuzujJtM1skFG_INMtrlWit1LVMCDGIuv53k5uj9Kfn39T9RFeIhvKKAp4X6AB9xAgGEyQKfVNOe-gS4lhX0usXoX6kMU6U3IpygjHoXQlFAspg0PXau_WQgVdPB52VixPGeBKtjeIKFkDM9ubhskGjthFO8F1Wy4LkAlaAg/file\n",
            "Resolving ucde2333c3112599261e5634608a.dl.dropboxusercontent.com (ucde2333c3112599261e5634608a.dl.dropboxusercontent.com)... 162.125.85.15, 2620:100:6035:15::a27d:550f\n",
            "Connecting to ucde2333c3112599261e5634608a.dl.dropboxusercontent.com (ucde2333c3112599261e5634608a.dl.dropboxusercontent.com)|162.125.85.15|:443... connected.\n",
            "HTTP request sent, awaiting response... 302 Found\n",
            "Location: /cd/0/inline2/BkeiESp_sT88rmCiwhmvnszjhIAjekqrLOQAltVkzsiMfAAyegHztrDcTv68uM9j_K-MBCHaIHGukLZ4D9LXWkyf6k4Mzv9SiuTK5yL7ENxdVscsq56_j_tQX46jlz4tnwumfzGES3QrPMqsxqmTJz7fGa2TTH15MXaNaR47_MA1Ev7uEjBoolrao5DieK6sbfatbxiv0QR11KoGBBkYEQsw7JRLEUBlIkcpiLD3mjPCJfvaUXaGgFJWVjJuU95gp9h9Z_7nIaK53BS7VM-DN9JItj_ALHWJ7b60sSt7s0QGv5nExHr_YUe2Ry66rh9aWyYL-aUsi-wQrQbDvPI1yAQ1_ShkJ3wLjM6ka015UP_Al4zBkU9FApfYN0PJSV6Hnap5RFZgj9378Dn9KsFh0WHI1zKReSGIxx9IdqekyBKw-w/file [following]\n",
            "--2022-05-01 16:00:33--  https://ucde2333c3112599261e5634608a.dl.dropboxusercontent.com/cd/0/inline2/BkeiESp_sT88rmCiwhmvnszjhIAjekqrLOQAltVkzsiMfAAyegHztrDcTv68uM9j_K-MBCHaIHGukLZ4D9LXWkyf6k4Mzv9SiuTK5yL7ENxdVscsq56_j_tQX46jlz4tnwumfzGES3QrPMqsxqmTJz7fGa2TTH15MXaNaR47_MA1Ev7uEjBoolrao5DieK6sbfatbxiv0QR11KoGBBkYEQsw7JRLEUBlIkcpiLD3mjPCJfvaUXaGgFJWVjJuU95gp9h9Z_7nIaK53BS7VM-DN9JItj_ALHWJ7b60sSt7s0QGv5nExHr_YUe2Ry66rh9aWyYL-aUsi-wQrQbDvPI1yAQ1_ShkJ3wLjM6ka015UP_Al4zBkU9FApfYN0PJSV6Hnap5RFZgj9378Dn9KsFh0WHI1zKReSGIxx9IdqekyBKw-w/file\n",
            "Reusing existing connection to ucde2333c3112599261e5634608a.dl.dropboxusercontent.com:443.\n",
            "HTTP request sent, awaiting response... 200 OK\n",
            "Length: 5936842 (5.7M) [application/zip]\n",
            "Saving to: ‘features_PCA_20.zip?dl=0’\n",
            "\n",
            "features_PCA_20.zip 100%[===================>]   5.66M  12.8MB/s    in 0.4s    \n",
            "\n",
            "2022-05-01 16:00:34 (12.8 MB/s) - ‘features_PCA_20.zip?dl=0’ saved [5936842/5936842]\n",
            "\n",
            "Archive:  features_PCA_20.zip?dl=0\n",
            "   creating: features_PCA_20/\n",
            "  inflating: features_PCA_20/features_test_PCA_20.npy  \n",
            "  inflating: features_PCA_20/features_train_PCA_20.npy  \n",
            "--2022-05-01 16:00:34--  https://www.dropbox.com/s/rhbde9gw8vnk9dm/array_labels.zip?dl=0\n",
            "Resolving www.dropbox.com (www.dropbox.com)... 162.125.81.18, 2620:100:6030:18::a27d:5012\n",
            "Connecting to www.dropbox.com (www.dropbox.com)|162.125.81.18|:443... connected.\n",
            "HTTP request sent, awaiting response... 301 Moved Permanently\n",
            "Location: /s/raw/rhbde9gw8vnk9dm/array_labels.zip [following]\n",
            "--2022-05-01 16:00:35--  https://www.dropbox.com/s/raw/rhbde9gw8vnk9dm/array_labels.zip\n",
            "Reusing existing connection to www.dropbox.com:443.\n",
            "HTTP request sent, awaiting response... 302 Found\n",
            "Location: https://ucb91649e94fcfcc6df2d6c065e1.dl.dropboxusercontent.com/cd/0/inline/Bkfui826oDaKzlkKVbkTHzgXB4YAKgBAlm9A_xizC3GuEe4UH7Kg1ob4RJWdDSnulKGVkQdccVC3YFkhdncEokekhD_fs5AKKZbcZxDKQ3K8Qjg2bUnCpvqM2fRIJ10v47g9Chv0FaJsgl4IA_svSfYD609l-thIVmui-tlc2Tssxg/file# [following]\n",
            "--2022-05-01 16:00:35--  https://ucb91649e94fcfcc6df2d6c065e1.dl.dropboxusercontent.com/cd/0/inline/Bkfui826oDaKzlkKVbkTHzgXB4YAKgBAlm9A_xizC3GuEe4UH7Kg1ob4RJWdDSnulKGVkQdccVC3YFkhdncEokekhD_fs5AKKZbcZxDKQ3K8Qjg2bUnCpvqM2fRIJ10v47g9Chv0FaJsgl4IA_svSfYD609l-thIVmui-tlc2Tssxg/file\n",
            "Resolving ucb91649e94fcfcc6df2d6c065e1.dl.dropboxusercontent.com (ucb91649e94fcfcc6df2d6c065e1.dl.dropboxusercontent.com)... 162.125.85.15, 2620:100:6035:15::a27d:550f\n",
            "Connecting to ucb91649e94fcfcc6df2d6c065e1.dl.dropboxusercontent.com (ucb91649e94fcfcc6df2d6c065e1.dl.dropboxusercontent.com)|162.125.85.15|:443... connected.\n",
            "HTTP request sent, awaiting response... 302 Found\n",
            "Location: /cd/0/inline2/BkeIVeSEThH-PP90mQtn3UXhU17YdosmB5bOsxrtG6OP8FJhnB7jEyLfbRLs_lWxoA3gLoNP2-sj9qFp70FBTj0C5wWo2J-I6d0u8qeAvmuIOp49M1Ic6PeBRclQMKAiIpY0k7grAqYEMgSfcVy1MUHTY9-Q18blVOnyw2nhCiKB5Im9ytHRiEV12cZ1nFQH3v43fVRMZcJPZXjovSYPmy9Lu24zMSvJKr7FEQ0o5mot8TNx_bWdGE2Sf7RiolN5nUQ6CwH6r_nkP_M1tUWd19vMmvZLImqM-5tp2EjsKE1DywLAt1DzoNL36iOd16RokARnY1VnfIqX13SOcs0GLZa5yAwraijrbop-15f0-K-aB3GHH6iBZ_K6CMtMrmnJzY7rato1Nfu8SvVuIy7duEdZ_CcvGh722X4MYs3_W-YZyA/file [following]\n",
            "--2022-05-01 16:00:35--  https://ucb91649e94fcfcc6df2d6c065e1.dl.dropboxusercontent.com/cd/0/inline2/BkeIVeSEThH-PP90mQtn3UXhU17YdosmB5bOsxrtG6OP8FJhnB7jEyLfbRLs_lWxoA3gLoNP2-sj9qFp70FBTj0C5wWo2J-I6d0u8qeAvmuIOp49M1Ic6PeBRclQMKAiIpY0k7grAqYEMgSfcVy1MUHTY9-Q18blVOnyw2nhCiKB5Im9ytHRiEV12cZ1nFQH3v43fVRMZcJPZXjovSYPmy9Lu24zMSvJKr7FEQ0o5mot8TNx_bWdGE2Sf7RiolN5nUQ6CwH6r_nkP_M1tUWd19vMmvZLImqM-5tp2EjsKE1DywLAt1DzoNL36iOd16RokARnY1VnfIqX13SOcs0GLZa5yAwraijrbop-15f0-K-aB3GHH6iBZ_K6CMtMrmnJzY7rato1Nfu8SvVuIy7duEdZ_CcvGh722X4MYs3_W-YZyA/file\n",
            "Reusing existing connection to ucb91649e94fcfcc6df2d6c065e1.dl.dropboxusercontent.com:443.\n",
            "HTTP request sent, awaiting response... 200 OK\n",
            "Length: 1265 (1.2K) [application/zip]\n",
            "Saving to: ‘array_labels.zip?dl=0’\n",
            "\n",
            "array_labels.zip?dl 100%[===================>]   1.24K  --.-KB/s    in 0s      \n",
            "\n",
            "2022-05-01 16:00:36 (167 MB/s) - ‘array_labels.zip?dl=0’ saved [1265/1265]\n",
            "\n",
            "Archive:  array_labels.zip?dl=0\n",
            "   creating: array_labels/\n",
            "  inflating: array_labels/array_test_labels.npy  \n",
            "  inflating: array_labels/array_train_labels.npy  \n"
          ]
        }
      ]
    },
    {
      "cell_type": "code",
      "source": [
        "# Versione one-vs-rest del classificatore SVM per distinguere le classi del dataset FER_modified\n",
        "# Vengono usate le features trovate tramite PCA (primi 20 autovalori) da immagini jpg\n",
        "\n",
        "import numpy as np\n",
        "\n",
        "# 1. Carico in memoria il dataset\n",
        "x_train = np.load('features_PCA_20/features_train_PCA_20.npy')\n",
        "y_train = np.load('array_labels/array_train_labels.npy')\n",
        "\n",
        "x_test = np.load('features_PCA_20/features_test_PCA_20.npy')\n",
        "y_test = np.load('array_labels/array_test_labels.npy')"
      ],
      "metadata": {
        "id": "y0_iQitbjvgi"
      },
      "execution_count": null,
      "outputs": []
    },
    {
      "cell_type": "code",
      "source": [
        "print(\"np.shape(x_train): \")\n",
        "print(np.shape(x_train))\n",
        "print(\"np.shape(y_train): \")\n",
        "print(np.shape(y_train))\n",
        "print(\"np.shape(x_test): \")\n",
        "print(np.shape(x_test))\n",
        "print(\"np.shape(y_test): \")\n",
        "print(np.shape(y_test))\n",
        "print(x_train[2])\n",
        "print(x_test[2])\n",
        "print(y_train)\n",
        "print(y_test)"
      ],
      "metadata": {
        "colab": {
          "base_uri": "https://localhost:8080/"
        },
        "id": "Ox66Kdp-NZZM",
        "outputId": "640db633-4d92-478f-c05e-c49435ad7c5c"
      },
      "execution_count": null,
      "outputs": [
        {
          "output_type": "stream",
          "name": "stdout",
          "text": [
            "np.shape(x_train): \n",
            "(31805, 20)\n",
            "np.shape(y_train): \n",
            "(31805,)\n",
            "np.shape(x_test): \n",
            "(7178, 20)\n",
            "np.shape(y_test): \n",
            "(7178,)\n",
            "[ -108.13089278 -1140.2339314   1050.58940216  -768.49120562\n",
            "  1276.65597828   101.37985751  1489.87063473   219.72489337\n",
            "  -272.18595812  -438.51233032  -151.26498981   289.4279884\n",
            "   191.82437915    74.14208411   -22.40006549   177.829861\n",
            "   300.10738803    63.99841203   137.92653633    40.42488002]\n",
            "[2198.04836646 -968.78412255  759.01630239 -295.80490139 -189.39118722\n",
            "  -88.90345817 -431.38225028  149.03225756  922.02387321  -93.04496657\n",
            "  349.58407585 -139.82846243 -195.71393233   47.43885469  360.64594519\n",
            " -471.01450876 -401.67205453  272.34234162  292.00599361   24.62311986]\n",
            "[0 0 0 ... 6 6 6]\n",
            "[0 0 0 ... 6 6 6]\n"
          ]
        }
      ]
    },
    {
      "cell_type": "code",
      "metadata": {
        "id": "MzsSInXgV-38",
        "outputId": "914ddbb2-bc75-496e-80ca-12d56be68a4f",
        "colab": {
          "base_uri": "https://localhost:8080/",
          "height": 282
        }
      },
      "source": [
        "# 2. Analizzo i dati\n",
        "\n",
        "# Capisco quanti oggetti e feature ho\n",
        "nobj = x_train.shape[0]\n",
        "nfeat = x_train.shape[1]\n",
        "print(nobj, nfeat)\n",
        "\n",
        "# Capisco come sono i dati: scatter plot con le prime 2 features\n",
        "from matplotlib import pyplot as plt\n",
        "\n",
        "plt.scatter(x_train[:,0],x_train[:,1], c=y_train)\n",
        "plt.show()\n"
      ],
      "execution_count": null,
      "outputs": [
        {
          "output_type": "stream",
          "name": "stdout",
          "text": [
            "31805 20\n"
          ]
        },
        {
          "output_type": "display_data",
          "data": {
            "text/plain": [
              "<Figure size 432x288 with 1 Axes>"
            ],
            "image/png": "[encoded data removed]"
          },
          "metadata": {
            "needs_background": "light"
          }
        }
      ]
    },
    {
      "cell_type": "code",
      "source": [
        ""
      ],
      "metadata": {
        "id": "qr3wObU3kPiK"
      },
      "execution_count": null,
      "outputs": []
    },
    {
      "cell_type": "code",
      "source": [
        "from sklearn.svm import SVC\n",
        "\n",
        "# 3. Inizializzo i parametri\n",
        "kernel = 'poly'\n",
        "degree = 4\n",
        "gamma = 'scale'\n",
        "probability = True\n",
        "# class_weight = dict or ‘balanced’, default=None\n",
        "decision_function_shape = 'ovo'\n",
        "\n",
        "max_iteration = 50\n",
        "\n",
        "# 4. Inizializzo un modello di classificazione SVM per ognuna delle 7 classi\n",
        "models = [SVC(kernel=kernel, max_iter=max_iteration, probability=True),\n",
        "          SVC(kernel=kernel, max_iter=max_iteration, probability=True),\n",
        "          SVC(kernel=kernel, max_iter=max_iteration, probability=True),\n",
        "          SVC(kernel=kernel, max_iter=max_iteration, probability=True),\n",
        "          SVC(kernel=kernel, max_iter=max_iteration, probability=True),\n",
        "          SVC(kernel=kernel, max_iter=max_iteration, probability=True),\n",
        "          SVC(kernel=kernel, max_iter=max_iteration, probability=True)]"
      ],
      "metadata": {
        "id": "DDsmyMn1u0LR"
      },
      "execution_count": null,
      "outputs": []
    },
    {
      "cell_type": "code",
      "source": [
        "# 5. Addestro i modelli\n",
        "for i in range(7):\n",
        "  models[i].fit(x_train, y_train==i)"
      ],
      "metadata": {
        "id": "_z-_pGY-Prh6",
        "colab": {
          "base_uri": "https://localhost:8080/"
        },
        "outputId": "4d3c3cab-3a04-4c5b-b7e8-0e37c0d94ecf"
      },
      "execution_count": null,
      "outputs": [
        {
          "output_type": "stream",
          "name": "stderr",
          "text": [
            "/usr/local/lib/python3.7/dist-packages/sklearn/svm/_base.py:289: ConvergenceWarning: Solver terminated early (max_iter=50).  Consider pre-processing your data with StandardScaler or MinMaxScaler.\n",
            "  ConvergenceWarning,\n",
            "/usr/local/lib/python3.7/dist-packages/sklearn/svm/_base.py:289: ConvergenceWarning: Solver terminated early (max_iter=50).  Consider pre-processing your data with StandardScaler or MinMaxScaler.\n",
            "  ConvergenceWarning,\n",
            "/usr/local/lib/python3.7/dist-packages/sklearn/svm/_base.py:289: ConvergenceWarning: Solver terminated early (max_iter=50).  Consider pre-processing your data with StandardScaler or MinMaxScaler.\n",
            "  ConvergenceWarning,\n",
            "/usr/local/lib/python3.7/dist-packages/sklearn/svm/_base.py:289: ConvergenceWarning: Solver terminated early (max_iter=50).  Consider pre-processing your data with StandardScaler or MinMaxScaler.\n",
            "  ConvergenceWarning,\n",
            "/usr/local/lib/python3.7/dist-packages/sklearn/svm/_base.py:289: ConvergenceWarning: Solver terminated early (max_iter=50).  Consider pre-processing your data with StandardScaler or MinMaxScaler.\n",
            "  ConvergenceWarning,\n",
            "/usr/local/lib/python3.7/dist-packages/sklearn/svm/_base.py:289: ConvergenceWarning: Solver terminated early (max_iter=50).  Consider pre-processing your data with StandardScaler or MinMaxScaler.\n",
            "  ConvergenceWarning,\n",
            "/usr/local/lib/python3.7/dist-packages/sklearn/svm/_base.py:289: ConvergenceWarning: Solver terminated early (max_iter=50).  Consider pre-processing your data with StandardScaler or MinMaxScaler.\n",
            "  ConvergenceWarning,\n"
          ]
        }
      ]
    },
    {
      "cell_type": "code",
      "source": [
        "# 6. Classifico i dati del testing set e costruisco la matrice di confusione\n",
        "predicted_scores = []\n",
        "for i in range(7):\n",
        "  predicted_scores.append(models[i].predict_proba(x_test)[:,1])\n",
        "\n",
        "predicted_scores = np.asarray(predicted_scores)\n",
        "predicted = np.argmax(predicted_scores,axis=0)\n",
        "\n",
        "print(np.shape(predicted_scores))\n",
        "print(np.shape(predicted))\n",
        "print(predicted_scores[:7])\n",
        "print(predicted[:20])\n",
        "\n",
        "cmc = np.zeros((7,7))\n",
        "\n",
        "for pr,y_te in zip(predicted,y_test):\n",
        "  cmc[y_te,pr] += 1.0\n",
        "\n",
        "for i in range(7):\n",
        "  print('\\n')\n",
        "  for j in range(7):\n",
        "    print(cmc[i][j])\n"
      ],
      "metadata": {
        "id": "by_zIjHvPudS",
        "colab": {
          "base_uri": "https://localhost:8080/"
        },
        "outputId": "8623de04-9a27-42e4-8126-6bbe7830031c"
      },
      "execution_count": null,
      "outputs": [
        {
          "output_type": "stream",
          "name": "stdout",
          "text": [
            "(7, 7178)\n",
            "(7178,)\n",
            "[[0.13823379 0.13825672 0.13833818 ... 0.13824715 0.13822369 0.1384282 ]\n",
            " [0.05420062 0.05395086 0.05381868 ... 0.05349039 0.05028114 0.04622718]\n",
            " [0.14716699 0.14684424 0.14596267 ... 0.14707366 0.146794   0.14672989]\n",
            " ...\n",
            " [0.17551322 0.17486334 0.17468927 ... 0.17541787 0.17542725 0.17493031]\n",
            " [0.16151202 0.16162165 0.16427048 ... 0.16157792 0.16178767 0.16185885]\n",
            " [0.11930073 0.12155233 0.11627371 ... 0.11891701 0.118506   0.11419178]]\n",
            "[3 3 3 3 3 3 3 3 3 3 3 3 3 3 3 3 3 3 3 3]\n",
            "\n",
            "\n",
            "0.0\n",
            "0.0\n",
            "0.0\n",
            "958.0\n",
            "0.0\n",
            "0.0\n",
            "0.0\n",
            "\n",
            "\n",
            "0.0\n",
            "0.0\n",
            "0.0\n",
            "111.0\n",
            "0.0\n",
            "0.0\n",
            "0.0\n",
            "\n",
            "\n",
            "0.0\n",
            "0.0\n",
            "0.0\n",
            "1024.0\n",
            "0.0\n",
            "0.0\n",
            "0.0\n",
            "\n",
            "\n",
            "0.0\n",
            "0.0\n",
            "0.0\n",
            "1774.0\n",
            "0.0\n",
            "0.0\n",
            "0.0\n",
            "\n",
            "\n",
            "0.0\n",
            "0.0\n",
            "0.0\n",
            "1233.0\n",
            "0.0\n",
            "0.0\n",
            "0.0\n",
            "\n",
            "\n",
            "0.0\n",
            "0.0\n",
            "0.0\n",
            "1247.0\n",
            "0.0\n",
            "0.0\n",
            "0.0\n",
            "\n",
            "\n",
            "0.0\n",
            "0.0\n",
            "0.0\n",
            "831.0\n",
            "0.0\n",
            "0.0\n",
            "0.0\n"
          ]
        }
      ]
    },
    {
      "cell_type": "code",
      "metadata": {
        "id": "U-sOSnBTq15v",
        "colab": {
          "base_uri": "https://localhost:8080/",
          "height": 470
        },
        "outputId": "3d17fb6b-9ee7-4221-c10a-b9d7e958b40f"
      },
      "source": [
        "# 7. Faccio il plot della matrice di confusione e calcolo accuratezza, precision e recall media rispetto alle 7 classi\n",
        "from matplotlib import pyplot as plt\n",
        "\n",
        "plt.imshow(cmc)\n",
        "plt.colorbar()\n",
        "plt.xlabel(\"Predicted\")\n",
        "plt.xticks([0,1,2,3,4,5,6],[\"0\",\"1\",\"2\",\"3\",\"4\",\"5\",\"6\"])\n",
        "plt.yticks([0,1,2,3,4,5,6], [\"0\",\"1\",\"2\",\"3\",\"4\",\"5\",\"6\"])\n",
        "plt.ylabel(\"Real\")\n",
        "plt.show()\n",
        "\n",
        "accuracy = np.sum(cmc.diagonal())/np.sum(cmc)\n",
        "\n",
        "precision = []\n",
        "recall = []\n",
        "for i in range(7):\n",
        "  precision.append(cmc[i,i]/ np.sum(cmc[:,i]))\n",
        "  recall.append(cmc[i,i]/ np.sum(cmc[:,i]))\n",
        "\n",
        "precision = np.asarray(precision)\n",
        "recall  = np.asarray(recall)\n",
        "\n",
        "print(np.shape(precision))\n",
        "print(np.shape(recall))\n",
        "\n",
        "precision_m = np.mean(precision)\n",
        "recall_m = np.mean(recall)\n",
        "\n",
        "print(np.shape(precision_m))\n",
        "print(np.shape(recall_m))\n",
        "print(precision_m)\n",
        "print(recall_m)\n",
        "\n",
        "print('Accuratezza del classificatore: ' + \"{0:.2f}\".format(accuracy*100) + '%')\n",
        "print('Precisione media del classificatore: ' + \"{0:.2f}\".format(precision_m))\n",
        "print('Recall media del classificatore: ' + \"{0:.2f}\".format(recall_m))"
      ],
      "execution_count": null,
      "outputs": [
        {
          "output_type": "display_data",
          "data": {
            "text/plain": [
              "<Figure size 432x288 with 2 Axes>"
            ],
            "image/png": "[encoded data removed]"
          },
          "metadata": {
            "needs_background": "light"
          }
        },
        {
          "output_type": "stream",
          "name": "stdout",
          "text": [
            "(7,)\n",
            "(7,)\n",
            "()\n",
            "()\n",
            "nan\n",
            "nan\n",
            "Accuratezza del classificatore: 24.71%\n",
            "Precisione media del classificatore: nan\n",
            "Recall media del classificatore: nan\n"
          ]
        },
        {
          "output_type": "stream",
          "name": "stderr",
          "text": [
            "/usr/local/lib/python3.7/dist-packages/ipykernel_launcher.py:17: RuntimeWarning: invalid value encountered in double_scalars\n",
            "/usr/local/lib/python3.7/dist-packages/ipykernel_launcher.py:18: RuntimeWarning: invalid value encountered in double_scalars\n"
          ]
        }
      ]
    }
  ]
}