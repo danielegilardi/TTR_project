{
  "nbformat": 4,
  "nbformat_minor": 0,
  "metadata": {
    "colab": {
      "name": "Copy of TTR_scelta num features_LDA.ipynb",
      "provenance": [],
      "collapsed_sections": [],
      "include_colab_link": true
    },
    "kernelspec": {
      "name": "python3",
      "display_name": "Python 3"
    }
  },
  "cells": [
    {
      "cell_type": "markdown",
      "metadata": {
        "id": "view-in-github",
        "colab_type": "text"
      },
      "source": [
        "<a href=\"https://colab.research.google.com/github/danielegilardi/TTR_project/blob/main/Copy_of_TTR_scelta_num_features_LDA.ipynb\" target=\"_parent\"><img src=\"https://colab.research.google.com/assets/colab-badge.svg\" alt=\"Open In Colab\"/></a>"
      ]
    },
    {
      "cell_type": "markdown",
      "source": [
        "Analizzo i dati raw per trovare il numero giusto di features da estrarre con LDA"
      ],
      "metadata": {
        "id": "qsMGZ2u_KaUi"
      }
    },
    {
      "cell_type": "code",
      "metadata": {
        "id": "ciffFoxHQU-5",
        "colab": {
          "base_uri": "https://localhost:8080/"
        },
        "outputId": "09c5b483-cdf3-459b-d9d8-54e85743a32b"
      },
      "source": [
        "!wget https://www.dropbox.com/s/89qruuhdpfd5gh0/dati_raw_2d.zip?dl=0\n",
        "!unzip dati_raw_2d.zip?dl=0\n",
        "\n",
        "!wget https://www.dropbox.com/s/rhbde9gw8vnk9dm/array_labels.zip?dl=0\n",
        "!unzip array_labels.zip?dl=0"
      ],
      "execution_count": 11,
      "outputs": [
        {
          "output_type": "stream",
          "name": "stdout",
          "text": [
            "--2022-05-14 13:39:22--  https://www.dropbox.com/s/89qruuhdpfd5gh0/dati_raw_2d.zip?dl=0\n",
            "Resolving www.dropbox.com (www.dropbox.com)... 162.125.5.18, 2620:100:601d:18::a27d:512\n",
            "Connecting to www.dropbox.com (www.dropbox.com)|162.125.5.18|:443... connected.\n",
            "HTTP request sent, awaiting response... 301 Moved Permanently\n",
            "Location: /s/raw/89qruuhdpfd5gh0/dati_raw_2d.zip [following]\n",
            "--2022-05-14 13:39:22--  https://www.dropbox.com/s/raw/89qruuhdpfd5gh0/dati_raw_2d.zip\n",
            "Reusing existing connection to www.dropbox.com:443.\n",
            "HTTP request sent, awaiting response... 302 Found\n",
            "Location: https://uc6b118c74424fcd5c7a2aa68bc4.dl.dropboxusercontent.com/cd/0/inline/BlRFTHVnRQB9UoQoXNM3h0D3IzEVoBlaJER8MewMT95xAR3EhLSpGZFmSvoyZn7hjth7iA2VDoehZp5zM4hP9rdkmZ3lvf4fyXvPVvJCnUQo5WB2GDWkeNGsTnpuLDKovuwcdzEkYnD9hOnmia6A4dZ8lrAJYchjQEWsZr9ws6sYmA/file# [following]\n",
            "--2022-05-14 13:39:23--  https://uc6b118c74424fcd5c7a2aa68bc4.dl.dropboxusercontent.com/cd/0/inline/BlRFTHVnRQB9UoQoXNM3h0D3IzEVoBlaJER8MewMT95xAR3EhLSpGZFmSvoyZn7hjth7iA2VDoehZp5zM4hP9rdkmZ3lvf4fyXvPVvJCnUQo5WB2GDWkeNGsTnpuLDKovuwcdzEkYnD9hOnmia6A4dZ8lrAJYchjQEWsZr9ws6sYmA/file\n",
            "Resolving uc6b118c74424fcd5c7a2aa68bc4.dl.dropboxusercontent.com (uc6b118c74424fcd5c7a2aa68bc4.dl.dropboxusercontent.com)... 162.125.5.15, 2620:100:601d:15::a27d:50f\n",
            "Connecting to uc6b118c74424fcd5c7a2aa68bc4.dl.dropboxusercontent.com (uc6b118c74424fcd5c7a2aa68bc4.dl.dropboxusercontent.com)|162.125.5.15|:443... connected.\n",
            "HTTP request sent, awaiting response... 302 Found\n",
            "Location: /cd/0/inline2/BlSyl1or0dOkpRAs6EHTgN4y2an8sMndurwDsKdtkwTOgRzk71eNntsxg_kvAXDO0p7_POkz_RUTDR6ktdN7dVd492Q69aCbrdJH34GV4OpRsiWp2S9Yv7Lb-LS7bekkwJolxQMn5NOI1G_DI8_AleowncOHU1-3xTb0Ll6MPD3OEcX9z6DwXkeg8yvE-rsqssFeWsM7U2RdFZ2RLlYCSGi5_z5Y8oEc7ELkE8I56Rb8QXmw9QWM1pEx0P1golskKC10WDsWe0BQ2-8R6m-EJsZmV7In0x4_h3m5Du5YTj9eK4xflzeWETo6_guPvh5ICheKt1QfOYH8cuWPzEzc7Q-SFKJUC0xBQ9u5rAniifOClCnxefMzjSBqUHwInl4dDwF-J4D02jtFZa_bSzYLpHlnvVzLCq2Nz2b48DeFkwEIWg/file [following]\n",
            "--2022-05-14 13:39:23--  https://uc6b118c74424fcd5c7a2aa68bc4.dl.dropboxusercontent.com/cd/0/inline2/BlSyl1or0dOkpRAs6EHTgN4y2an8sMndurwDsKdtkwTOgRzk71eNntsxg_kvAXDO0p7_POkz_RUTDR6ktdN7dVd492Q69aCbrdJH34GV4OpRsiWp2S9Yv7Lb-LS7bekkwJolxQMn5NOI1G_DI8_AleowncOHU1-3xTb0Ll6MPD3OEcX9z6DwXkeg8yvE-rsqssFeWsM7U2RdFZ2RLlYCSGi5_z5Y8oEc7ELkE8I56Rb8QXmw9QWM1pEx0P1golskKC10WDsWe0BQ2-8R6m-EJsZmV7In0x4_h3m5Du5YTj9eK4xflzeWETo6_guPvh5ICheKt1QfOYH8cuWPzEzc7Q-SFKJUC0xBQ9u5rAniifOClCnxefMzjSBqUHwInl4dDwF-J4D02jtFZa_bSzYLpHlnvVzLCq2Nz2b48DeFkwEIWg/file\n",
            "Reusing existing connection to uc6b118c74424fcd5c7a2aa68bc4.dl.dropboxusercontent.com:443.\n",
            "HTTP request sent, awaiting response... 200 OK\n",
            "Length: 84158192 (80M) [application/zip]\n",
            "Saving to: ‘dati_raw_2d.zip?dl=0’\n",
            "\n",
            "dati_raw_2d.zip?dl= 100%[===================>]  80.26M  84.0MB/s    in 1.0s    \n",
            "\n",
            "2022-05-14 13:39:24 (84.0 MB/s) - ‘dati_raw_2d.zip?dl=0’ saved [84158192/84158192]\n",
            "\n",
            "Archive:  dati_raw_2d.zip?dl=0\n",
            "   creating: dati_raw_2d/\n",
            "  inflating: dati_raw_2d/dati_raw_test_2d.npy  \n",
            "  inflating: dati_raw_2d/dati_raw_train_2d.npy  \n",
            "--2022-05-14 13:39:26--  https://www.dropbox.com/s/rhbde9gw8vnk9dm/array_labels.zip?dl=0\n",
            "Resolving www.dropbox.com (www.dropbox.com)... 162.125.5.18, 2620:100:601d:18::a27d:512\n",
            "Connecting to www.dropbox.com (www.dropbox.com)|162.125.5.18|:443... connected.\n",
            "HTTP request sent, awaiting response... 301 Moved Permanently\n",
            "Location: /s/raw/rhbde9gw8vnk9dm/array_labels.zip [following]\n",
            "--2022-05-14 13:39:26--  https://www.dropbox.com/s/raw/rhbde9gw8vnk9dm/array_labels.zip\n",
            "Reusing existing connection to www.dropbox.com:443.\n",
            "HTTP request sent, awaiting response... 302 Found\n",
            "Location: https://uc86698c43aacdaa558cea9f2e9e.dl.dropboxusercontent.com/cd/0/inline/BlRFH5cWcs88mvd8QtYQOAMT3LKD0y_lMBAl1v4KGZRbi9ks68JKxMqIXfgAh_ScFXqrvCalW_Fve0iw7EXrsii0PCmBh4ePfv487VfzEThndje5hv0uXZcmEnOsXwYfDVmkSOG13Kk1-_PDJrFWynIW1aRqBqBYnzCQ_W-FZ1yNew/file# [following]\n",
            "--2022-05-14 13:39:26--  https://uc86698c43aacdaa558cea9f2e9e.dl.dropboxusercontent.com/cd/0/inline/BlRFH5cWcs88mvd8QtYQOAMT3LKD0y_lMBAl1v4KGZRbi9ks68JKxMqIXfgAh_ScFXqrvCalW_Fve0iw7EXrsii0PCmBh4ePfv487VfzEThndje5hv0uXZcmEnOsXwYfDVmkSOG13Kk1-_PDJrFWynIW1aRqBqBYnzCQ_W-FZ1yNew/file\n",
            "Resolving uc86698c43aacdaa558cea9f2e9e.dl.dropboxusercontent.com (uc86698c43aacdaa558cea9f2e9e.dl.dropboxusercontent.com)... 162.125.5.15, 2620:100:601d:15::a27d:50f\n",
            "Connecting to uc86698c43aacdaa558cea9f2e9e.dl.dropboxusercontent.com (uc86698c43aacdaa558cea9f2e9e.dl.dropboxusercontent.com)|162.125.5.15|:443... connected.\n",
            "HTTP request sent, awaiting response... 302 Found\n",
            "Location: /cd/0/inline2/BlQgdExhdwFBtQiJPAhWwAJoB6ygbb5Amjsr7o9Vub7hBqKJ0FsSUE8qVMtBcQQfQ_O5H6pCnsW8I7oWg9gf0YjiJE0o9df_UOrxpNjLF9hwIWcMVaGqB0QYhgibPZQaTYo4tRSR0yPX5eGRwTsxC2eIKaSzwH1HxpXsQycCXshBAlrudASHH4JtqMmd0rJi2Uobduhj6k7ZqodrlTNxEx2cvCRpcqsQlptgkB3mrDV4KaEFHOjhVC-XZO7gan2AgiOd7J_PeuMmyTSgC1NpJy4HyR_bbpAyXY7QXFTwilnr570z1agpq11Zi6s2OYqcWJaV8hhmryPkYcHLMsLWif0E1yemiC1huHYi6VBWMCf021tCZkvsOd0TdZ-ytHc-4F5yQaAueubIvV0HzTrn4sna5FuwcaeVTG1BPVcR2R6R_A/file [following]\n",
            "--2022-05-14 13:39:27--  https://uc86698c43aacdaa558cea9f2e9e.dl.dropboxusercontent.com/cd/0/inline2/BlQgdExhdwFBtQiJPAhWwAJoB6ygbb5Amjsr7o9Vub7hBqKJ0FsSUE8qVMtBcQQfQ_O5H6pCnsW8I7oWg9gf0YjiJE0o9df_UOrxpNjLF9hwIWcMVaGqB0QYhgibPZQaTYo4tRSR0yPX5eGRwTsxC2eIKaSzwH1HxpXsQycCXshBAlrudASHH4JtqMmd0rJi2Uobduhj6k7ZqodrlTNxEx2cvCRpcqsQlptgkB3mrDV4KaEFHOjhVC-XZO7gan2AgiOd7J_PeuMmyTSgC1NpJy4HyR_bbpAyXY7QXFTwilnr570z1agpq11Zi6s2OYqcWJaV8hhmryPkYcHLMsLWif0E1yemiC1huHYi6VBWMCf021tCZkvsOd0TdZ-ytHc-4F5yQaAueubIvV0HzTrn4sna5FuwcaeVTG1BPVcR2R6R_A/file\n",
            "Reusing existing connection to uc86698c43aacdaa558cea9f2e9e.dl.dropboxusercontent.com:443.\n",
            "HTTP request sent, awaiting response... 200 OK\n",
            "Length: 1265 (1.2K) [application/zip]\n",
            "Saving to: ‘array_labels.zip?dl=0.1’\n",
            "\n",
            "array_labels.zip?dl 100%[===================>]   1.24K  --.-KB/s    in 0s      \n",
            "\n",
            "2022-05-14 13:39:27 (257 MB/s) - ‘array_labels.zip?dl=0.1’ saved [1265/1265]\n",
            "\n",
            "Archive:  array_labels.zip?dl=0\n",
            "replace array_labels/array_test_labels.npy? [y]es, [n]o, [A]ll, [N]one, [r]ename: A\n",
            "  inflating: array_labels/array_test_labels.npy  \n",
            "  inflating: array_labels/array_train_labels.npy  \n"
          ]
        }
      ]
    },
    {
      "cell_type": "code",
      "metadata": {
        "id": "uMNf-ZcRRYE6"
      },
      "source": [
        "\n",
        "import numpy as np\n",
        "\n",
        "# Carico in memoria il dataset\n",
        "x_train = np.load('dati_raw_2d/dati_raw_train_2d.npy')\n",
        "y_train = np.load('array_labels/array_train_labels.npy')\n",
        "\n",
        "x_test = np.load('dati_raw_2d/dati_raw_test_2d.npy')\n",
        "y_test = np.load('array_labels/array_test_labels.npy')\n"
      ],
      "execution_count": 12,
      "outputs": []
    },
    {
      "cell_type": "code",
      "source": [
        "# Load libraries\n",
        "from sklearn import datasets\n",
        "from sklearn.discriminant_analysis import LinearDiscriminantAnalysis"
      ],
      "metadata": {
        "id": "gZAQ9b-ixe0m"
      },
      "execution_count": 13,
      "outputs": []
    },
    {
      "cell_type": "code",
      "source": [
        "# Load the Iris flower dataset:\n",
        "\n",
        "X = x_train\n",
        "y = y_train"
      ],
      "metadata": {
        "id": "w-R8DvC_xhT2"
      },
      "execution_count": 14,
      "outputs": []
    },
    {
      "cell_type": "markdown",
      "source": [
        "Run Linear Discriminant Analysis"
      ],
      "metadata": {
        "id": "SnNL4swj0ljF"
      }
    },
    {
      "cell_type": "code",
      "source": [
        "# Create and run an LDA\n",
        "lda = LinearDiscriminantAnalysis(n_components=None)\n",
        "X_lda = lda.fit(X, y)"
      ],
      "metadata": {
        "id": "uxcB6FTtxlye"
      },
      "execution_count": 15,
      "outputs": []
    },
    {
      "cell_type": "markdown",
      "source": [
        "Create List Of Explained Variances"
      ],
      "metadata": {
        "id": "tC_qqMnq0haN"
      }
    },
    {
      "cell_type": "code",
      "source": [
        "# Create array of explained variance ratios\n",
        "lda_var_ratios = lda.explained_variance_ratio_"
      ],
      "metadata": {
        "id": "48uJMboOxqwn"
      },
      "execution_count": 16,
      "outputs": []
    },
    {
      "cell_type": "markdown",
      "source": [
        "Create Function Calculating Number Of Components Required To Pass Threshold"
      ],
      "metadata": {
        "id": "vnhvQ0Qa0cld"
      }
    },
    {
      "cell_type": "code",
      "source": [
        "# Create a function\n",
        "def select_n_components(var_ratio, goal_var: float) -> int:\n",
        "    # Set initial variance explained so far\n",
        "    total_variance = 0.0\n",
        "    \n",
        "    # Set initial number of features\n",
        "    n_components = 0\n",
        "    \n",
        "    # For the explained variance of each feature:\n",
        "    for explained_variance in var_ratio:\n",
        "        \n",
        "        # Add the explained variance to the total\n",
        "        total_variance += explained_variance\n",
        "        \n",
        "        # Add one to the number of components\n",
        "        n_components += 1\n",
        "        \n",
        "        # If we reach our goal level of explained variance\n",
        "        if total_variance >= goal_var:\n",
        "            # End the loop\n",
        "            break\n",
        "            \n",
        "    # Return the number of components\n",
        "    return n_components"
      ],
      "metadata": {
        "id": "UObo2bWSxtzu"
      },
      "execution_count": 17,
      "outputs": []
    },
    {
      "cell_type": "markdown",
      "source": [
        "Run Function"
      ],
      "metadata": {
        "id": "szATg5U90rUe"
      }
    },
    {
      "cell_type": "code",
      "source": [
        "# Run function\n",
        "select_n_components(lda_var_ratios, 0.95)"
      ],
      "metadata": {
        "colab": {
          "base_uri": "https://localhost:8080/"
        },
        "id": "xeyboiSDxxh2",
        "outputId": "c1ec482f-74f0-4d97-8f28-5506ebdc504d"
      },
      "execution_count": 18,
      "outputs": [
        {
          "output_type": "execute_result",
          "data": {
            "text/plain": [
              "6"
            ]
          },
          "metadata": {},
          "execution_count": 18
        }
      ]
    },
    {
      "cell_type": "code",
      "source": [
        ""
      ],
      "metadata": {
        "id": "r8wqNdcOImms"
      },
      "execution_count": null,
      "outputs": []
    }
  ]
}